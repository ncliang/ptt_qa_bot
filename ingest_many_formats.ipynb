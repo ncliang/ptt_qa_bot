{
 "cells": [
  {
   "cell_type": "markdown",
   "source": [
    "# 嘗試用`langchain`讀取各種格式的檔案"
   ],
   "metadata": {
    "collapsed": false
   }
  },
  {
   "cell_type": "markdown",
   "source": [
    "## 安裝需要的套件"
   ],
   "metadata": {
    "collapsed": false
   }
  },
  {
   "cell_type": "code",
   "execution_count": 17,
   "metadata": {
    "collapsed": true,
    "ExecuteTime": {
     "end_time": "2023-05-30T06:34:45.841484Z",
     "start_time": "2023-05-30T06:34:37.944431Z"
    }
   },
   "outputs": [
    {
     "name": "stdout",
     "output_type": "stream",
     "text": [
      "Requirement already satisfied: langchain in ./venv/lib/python3.11/site-packages (from -r requirements.txt (line 1)) (0.0.179)\r\n",
      "Requirement already satisfied: openai in ./venv/lib/python3.11/site-packages (from -r requirements.txt (line 2)) (0.27.7)\r\n",
      "Requirement already satisfied: chromadb in ./venv/lib/python3.11/site-packages (from -r requirements.txt (line 3)) (0.3.25)\r\n",
      "Requirement already satisfied: tabulate in ./venv/lib/python3.11/site-packages (from -r requirements.txt (line 4)) (0.9.0)\r\n",
      "Requirement already satisfied: pdf2image in ./venv/lib/python3.11/site-packages (from -r requirements.txt (line 5)) (1.16.3)\r\n",
      "Requirement already satisfied: pytesseract in ./venv/lib/python3.11/site-packages (from -r requirements.txt (line 6)) (0.3.10)\r\n",
      "Requirement already satisfied: libmagic in ./venv/lib/python3.11/site-packages (from -r requirements.txt (line 7)) (1.0)\r\n",
      "Requirement already satisfied: urllib3==1.26.6 in ./venv/lib/python3.11/site-packages (from -r requirements.txt (line 8)) (1.26.6)\r\n",
      "Requirement already satisfied: requests in ./venv/lib/python3.11/site-packages (from -r requirements.txt (line 9)) (2.31.0)\r\n",
      "Requirement already satisfied: beautifulsoup4 in ./venv/lib/python3.11/site-packages (from -r requirements.txt (line 10)) (4.12.2)\r\n",
      "Requirement already satisfied: html2text in ./venv/lib/python3.11/site-packages (from -r requirements.txt (line 11)) (2020.1.16)\r\n",
      "Requirement already satisfied: unstructured in ./venv/lib/python3.11/site-packages (from -r requirements.txt (line 12)) (0.6.10)\r\n",
      "Requirement already satisfied: tiktoken in ./venv/lib/python3.11/site-packages (from -r requirements.txt (line 13)) (0.4.0)\r\n",
      "Requirement already satisfied: tesseract in ./venv/lib/python3.11/site-packages (from -r requirements.txt (line 14)) (0.1.3)\r\n",
      "Requirement already satisfied: gradio in ./venv/lib/python3.11/site-packages (from -r requirements.txt (line 17)) (3.32.0)\r\n",
      "Requirement already satisfied: PyYAML>=5.4.1 in ./venv/lib/python3.11/site-packages (from langchain->-r requirements.txt (line 1)) (6.0)\r\n",
      "Requirement already satisfied: SQLAlchemy<3,>=1.4 in ./venv/lib/python3.11/site-packages (from langchain->-r requirements.txt (line 1)) (2.0.15)\r\n",
      "Requirement already satisfied: aiohttp<4.0.0,>=3.8.3 in ./venv/lib/python3.11/site-packages (from langchain->-r requirements.txt (line 1)) (3.8.4)\r\n",
      "Requirement already satisfied: dataclasses-json<0.6.0,>=0.5.7 in ./venv/lib/python3.11/site-packages (from langchain->-r requirements.txt (line 1)) (0.5.7)\r\n",
      "Requirement already satisfied: numexpr<3.0.0,>=2.8.4 in ./venv/lib/python3.11/site-packages (from langchain->-r requirements.txt (line 1)) (2.8.4)\r\n",
      "Requirement already satisfied: numpy<2,>=1 in ./venv/lib/python3.11/site-packages (from langchain->-r requirements.txt (line 1)) (1.24.3)\r\n",
      "Requirement already satisfied: openapi-schema-pydantic<2.0,>=1.2 in ./venv/lib/python3.11/site-packages (from langchain->-r requirements.txt (line 1)) (1.2.4)\r\n",
      "Requirement already satisfied: pydantic<2,>=1 in ./venv/lib/python3.11/site-packages (from langchain->-r requirements.txt (line 1)) (1.10.8)\r\n",
      "Requirement already satisfied: tenacity<9.0.0,>=8.1.0 in ./venv/lib/python3.11/site-packages (from langchain->-r requirements.txt (line 1)) (8.2.2)\r\n",
      "Requirement already satisfied: tqdm in ./venv/lib/python3.11/site-packages (from openai->-r requirements.txt (line 2)) (4.65.0)\r\n",
      "Requirement already satisfied: pandas>=1.3 in ./venv/lib/python3.11/site-packages (from chromadb->-r requirements.txt (line 3)) (1.5.3)\r\n",
      "Requirement already satisfied: hnswlib>=0.7 in ./venv/lib/python3.11/site-packages (from chromadb->-r requirements.txt (line 3)) (0.7.0)\r\n",
      "Requirement already satisfied: clickhouse-connect>=0.5.7 in ./venv/lib/python3.11/site-packages (from chromadb->-r requirements.txt (line 3)) (0.5.25)\r\n",
      "Requirement already satisfied: duckdb>=0.7.1 in ./venv/lib/python3.11/site-packages (from chromadb->-r requirements.txt (line 3)) (0.8.0)\r\n",
      "Requirement already satisfied: fastapi>=0.85.1 in ./venv/lib/python3.11/site-packages (from chromadb->-r requirements.txt (line 3)) (0.95.2)\r\n",
      "Requirement already satisfied: uvicorn[standard]>=0.18.3 in ./venv/lib/python3.11/site-packages (from chromadb->-r requirements.txt (line 3)) (0.22.0)\r\n",
      "Requirement already satisfied: posthog>=2.4.0 in ./venv/lib/python3.11/site-packages (from chromadb->-r requirements.txt (line 3)) (3.0.1)\r\n",
      "Requirement already satisfied: onnxruntime>=1.14.1 in ./venv/lib/python3.11/site-packages (from chromadb->-r requirements.txt (line 3)) (1.15.0)\r\n",
      "Requirement already satisfied: tokenizers>=0.13.2 in ./venv/lib/python3.11/site-packages (from chromadb->-r requirements.txt (line 3)) (0.13.3)\r\n",
      "Requirement already satisfied: typing-extensions>=4.5.0 in ./venv/lib/python3.11/site-packages (from chromadb->-r requirements.txt (line 3)) (4.6.1)\r\n",
      "Requirement already satisfied: overrides>=7.3.1 in ./venv/lib/python3.11/site-packages (from chromadb->-r requirements.txt (line 3)) (7.3.1)\r\n",
      "Requirement already satisfied: pillow in ./venv/lib/python3.11/site-packages (from pdf2image->-r requirements.txt (line 5)) (9.5.0)\r\n",
      "Requirement already satisfied: packaging>=21.3 in ./venv/lib/python3.11/site-packages (from pytesseract->-r requirements.txt (line 6)) (23.1)\r\n",
      "Requirement already satisfied: charset-normalizer<4,>=2 in ./venv/lib/python3.11/site-packages (from requests->-r requirements.txt (line 9)) (3.1.0)\r\n",
      "Requirement already satisfied: idna<4,>=2.5 in ./venv/lib/python3.11/site-packages (from requests->-r requirements.txt (line 9)) (3.4)\r\n",
      "Requirement already satisfied: certifi>=2017.4.17 in ./venv/lib/python3.11/site-packages (from requests->-r requirements.txt (line 9)) (2023.5.7)\r\n",
      "Requirement already satisfied: soupsieve>1.2 in ./venv/lib/python3.11/site-packages (from beautifulsoup4->-r requirements.txt (line 10)) (2.4.1)\r\n",
      "Requirement already satisfied: argilla in ./venv/lib/python3.11/site-packages (from unstructured->-r requirements.txt (line 12)) (1.1.1)\r\n",
      "Requirement already satisfied: chardet in ./venv/lib/python3.11/site-packages (from unstructured->-r requirements.txt (line 12)) (5.1.0)\r\n",
      "Requirement already satisfied: lxml in ./venv/lib/python3.11/site-packages (from unstructured->-r requirements.txt (line 12)) (4.9.2)\r\n",
      "Requirement already satisfied: msg-parser in ./venv/lib/python3.11/site-packages (from unstructured->-r requirements.txt (line 12)) (1.2.0)\r\n",
      "Requirement already satisfied: nltk in ./venv/lib/python3.11/site-packages (from unstructured->-r requirements.txt (line 12)) (3.8.1)\r\n",
      "Requirement already satisfied: openpyxl in ./venv/lib/python3.11/site-packages (from unstructured->-r requirements.txt (line 12)) (3.1.2)\r\n",
      "Requirement already satisfied: pdfminer.six in ./venv/lib/python3.11/site-packages (from unstructured->-r requirements.txt (line 12)) (20221105)\r\n",
      "Requirement already satisfied: pypandoc in ./venv/lib/python3.11/site-packages (from unstructured->-r requirements.txt (line 12)) (1.11)\r\n",
      "Requirement already satisfied: python-docx in ./venv/lib/python3.11/site-packages (from unstructured->-r requirements.txt (line 12)) (0.8.11)\r\n",
      "Requirement already satisfied: python-pptx in ./venv/lib/python3.11/site-packages (from unstructured->-r requirements.txt (line 12)) (0.6.21)\r\n",
      "Requirement already satisfied: python-magic in ./venv/lib/python3.11/site-packages (from unstructured->-r requirements.txt (line 12)) (0.4.27)\r\n",
      "Requirement already satisfied: markdown in ./venv/lib/python3.11/site-packages (from unstructured->-r requirements.txt (line 12)) (3.4.3)\r\n",
      "Requirement already satisfied: xlrd in ./venv/lib/python3.11/site-packages (from unstructured->-r requirements.txt (line 12)) (2.0.1)\r\n",
      "Requirement already satisfied: regex>=2022.1.18 in ./venv/lib/python3.11/site-packages (from tiktoken->-r requirements.txt (line 13)) (2023.5.5)\r\n",
      "Requirement already satisfied: aiofiles in ./venv/lib/python3.11/site-packages (from gradio->-r requirements.txt (line 17)) (23.1.0)\r\n",
      "Requirement already satisfied: altair>=4.2.0 in ./venv/lib/python3.11/site-packages (from gradio->-r requirements.txt (line 17)) (5.0.0)\r\n",
      "Requirement already satisfied: ffmpy in ./venv/lib/python3.11/site-packages (from gradio->-r requirements.txt (line 17)) (0.3.0)\r\n",
      "Requirement already satisfied: gradio-client>=0.2.4 in ./venv/lib/python3.11/site-packages (from gradio->-r requirements.txt (line 17)) (0.2.5)\r\n",
      "Requirement already satisfied: httpx in ./venv/lib/python3.11/site-packages (from gradio->-r requirements.txt (line 17)) (0.15.5)\r\n",
      "Requirement already satisfied: huggingface-hub>=0.13.0 in ./venv/lib/python3.11/site-packages (from gradio->-r requirements.txt (line 17)) (0.14.1)\r\n",
      "Requirement already satisfied: jinja2 in ./venv/lib/python3.11/site-packages (from gradio->-r requirements.txt (line 17)) (3.1.2)\r\n",
      "Requirement already satisfied: markdown-it-py[linkify]>=2.0.0 in ./venv/lib/python3.11/site-packages (from gradio->-r requirements.txt (line 17)) (2.2.0)\r\n",
      "Requirement already satisfied: markupsafe in ./venv/lib/python3.11/site-packages (from gradio->-r requirements.txt (line 17)) (2.1.2)\r\n",
      "Requirement already satisfied: matplotlib in ./venv/lib/python3.11/site-packages (from gradio->-r requirements.txt (line 17)) (3.7.1)\r\n",
      "Requirement already satisfied: mdit-py-plugins<=0.3.3 in ./venv/lib/python3.11/site-packages (from gradio->-r requirements.txt (line 17)) (0.3.3)\r\n",
      "Requirement already satisfied: orjson in ./venv/lib/python3.11/site-packages (from gradio->-r requirements.txt (line 17)) (3.8.13)\r\n",
      "Requirement already satisfied: pydub in ./venv/lib/python3.11/site-packages (from gradio->-r requirements.txt (line 17)) (0.25.1)\r\n",
      "Requirement already satisfied: pygments>=2.12.0 in ./venv/lib/python3.11/site-packages (from gradio->-r requirements.txt (line 17)) (2.15.1)\r\n",
      "Requirement already satisfied: python-multipart in ./venv/lib/python3.11/site-packages (from gradio->-r requirements.txt (line 17)) (0.0.6)\r\n",
      "Requirement already satisfied: semantic-version in ./venv/lib/python3.11/site-packages (from gradio->-r requirements.txt (line 17)) (2.10.0)\r\n",
      "Requirement already satisfied: websockets>=10.0 in ./venv/lib/python3.11/site-packages (from gradio->-r requirements.txt (line 17)) (11.0.3)\r\n",
      "Requirement already satisfied: attrs>=17.3.0 in ./venv/lib/python3.11/site-packages (from aiohttp<4.0.0,>=3.8.3->langchain->-r requirements.txt (line 1)) (23.1.0)\r\n",
      "Requirement already satisfied: multidict<7.0,>=4.5 in ./venv/lib/python3.11/site-packages (from aiohttp<4.0.0,>=3.8.3->langchain->-r requirements.txt (line 1)) (6.0.4)\r\n",
      "Requirement already satisfied: async-timeout<5.0,>=4.0.0a3 in ./venv/lib/python3.11/site-packages (from aiohttp<4.0.0,>=3.8.3->langchain->-r requirements.txt (line 1)) (4.0.2)\r\n",
      "Requirement already satisfied: yarl<2.0,>=1.0 in ./venv/lib/python3.11/site-packages (from aiohttp<4.0.0,>=3.8.3->langchain->-r requirements.txt (line 1)) (1.9.2)\r\n",
      "Requirement already satisfied: frozenlist>=1.1.1 in ./venv/lib/python3.11/site-packages (from aiohttp<4.0.0,>=3.8.3->langchain->-r requirements.txt (line 1)) (1.3.3)\r\n",
      "Requirement already satisfied: aiosignal>=1.1.2 in ./venv/lib/python3.11/site-packages (from aiohttp<4.0.0,>=3.8.3->langchain->-r requirements.txt (line 1)) (1.3.1)\r\n",
      "Requirement already satisfied: jsonschema>=3.0 in ./venv/lib/python3.11/site-packages (from altair>=4.2.0->gradio->-r requirements.txt (line 17)) (4.17.3)\r\n",
      "Requirement already satisfied: toolz in ./venv/lib/python3.11/site-packages (from altair>=4.2.0->gradio->-r requirements.txt (line 17)) (0.12.0)\r\n",
      "Requirement already satisfied: pytz in ./venv/lib/python3.11/site-packages (from clickhouse-connect>=0.5.7->chromadb->-r requirements.txt (line 3)) (2023.3)\r\n",
      "Requirement already satisfied: zstandard in ./venv/lib/python3.11/site-packages (from clickhouse-connect>=0.5.7->chromadb->-r requirements.txt (line 3)) (0.21.0)\r\n",
      "Requirement already satisfied: lz4 in ./venv/lib/python3.11/site-packages (from clickhouse-connect>=0.5.7->chromadb->-r requirements.txt (line 3)) (4.3.2)\r\n",
      "Requirement already satisfied: marshmallow<4.0.0,>=3.3.0 in ./venv/lib/python3.11/site-packages (from dataclasses-json<0.6.0,>=0.5.7->langchain->-r requirements.txt (line 1)) (3.19.0)\r\n",
      "Requirement already satisfied: marshmallow-enum<2.0.0,>=1.5.1 in ./venv/lib/python3.11/site-packages (from dataclasses-json<0.6.0,>=0.5.7->langchain->-r requirements.txt (line 1)) (1.5.1)\r\n",
      "Requirement already satisfied: typing-inspect>=0.4.0 in ./venv/lib/python3.11/site-packages (from dataclasses-json<0.6.0,>=0.5.7->langchain->-r requirements.txt (line 1)) (0.9.0)\r\n",
      "Requirement already satisfied: starlette<0.28.0,>=0.27.0 in ./venv/lib/python3.11/site-packages (from fastapi>=0.85.1->chromadb->-r requirements.txt (line 3)) (0.27.0)\r\n",
      "Requirement already satisfied: fsspec in ./venv/lib/python3.11/site-packages (from gradio-client>=0.2.4->gradio->-r requirements.txt (line 17)) (2023.5.0)\r\n",
      "Requirement already satisfied: filelock in ./venv/lib/python3.11/site-packages (from huggingface-hub>=0.13.0->gradio->-r requirements.txt (line 17)) (3.12.0)\r\n",
      "Requirement already satisfied: mdurl~=0.1 in ./venv/lib/python3.11/site-packages (from markdown-it-py[linkify]>=2.0.0->gradio->-r requirements.txt (line 17)) (0.1.2)\r\n",
      "Requirement already satisfied: linkify-it-py<3,>=1 in ./venv/lib/python3.11/site-packages (from markdown-it-py[linkify]>=2.0.0->gradio->-r requirements.txt (line 17)) (2.0.2)\r\n",
      "Requirement already satisfied: coloredlogs in ./venv/lib/python3.11/site-packages (from onnxruntime>=1.14.1->chromadb->-r requirements.txt (line 3)) (15.0.1)\r\n",
      "Requirement already satisfied: flatbuffers in ./venv/lib/python3.11/site-packages (from onnxruntime>=1.14.1->chromadb->-r requirements.txt (line 3)) (23.5.9)\r\n",
      "Requirement already satisfied: protobuf in ./venv/lib/python3.11/site-packages (from onnxruntime>=1.14.1->chromadb->-r requirements.txt (line 3)) (4.23.1)\r\n",
      "Requirement already satisfied: sympy in ./venv/lib/python3.11/site-packages (from onnxruntime>=1.14.1->chromadb->-r requirements.txt (line 3)) (1.12)\r\n",
      "Requirement already satisfied: python-dateutil>=2.8.1 in ./venv/lib/python3.11/site-packages (from pandas>=1.3->chromadb->-r requirements.txt (line 3)) (2.8.2)\r\n",
      "Requirement already satisfied: six>=1.5 in ./venv/lib/python3.11/site-packages (from posthog>=2.4.0->chromadb->-r requirements.txt (line 3)) (1.16.0)\r\n",
      "Requirement already satisfied: monotonic>=1.5 in ./venv/lib/python3.11/site-packages (from posthog>=2.4.0->chromadb->-r requirements.txt (line 3)) (1.6)\r\n",
      "Requirement already satisfied: backoff>=1.10.0 in ./venv/lib/python3.11/site-packages (from posthog>=2.4.0->chromadb->-r requirements.txt (line 3)) (2.2.1)\r\n",
      "Requirement already satisfied: click>=7.0 in ./venv/lib/python3.11/site-packages (from uvicorn[standard]>=0.18.3->chromadb->-r requirements.txt (line 3)) (8.1.3)\r\n",
      "Requirement already satisfied: h11>=0.8 in ./venv/lib/python3.11/site-packages (from uvicorn[standard]>=0.18.3->chromadb->-r requirements.txt (line 3)) (0.9.0)\r\n",
      "Requirement already satisfied: httptools>=0.5.0 in ./venv/lib/python3.11/site-packages (from uvicorn[standard]>=0.18.3->chromadb->-r requirements.txt (line 3)) (0.5.0)\r\n",
      "Requirement already satisfied: python-dotenv>=0.13 in ./venv/lib/python3.11/site-packages (from uvicorn[standard]>=0.18.3->chromadb->-r requirements.txt (line 3)) (1.0.0)\r\n",
      "Requirement already satisfied: uvloop!=0.15.0,!=0.15.1,>=0.14.0 in ./venv/lib/python3.11/site-packages (from uvicorn[standard]>=0.18.3->chromadb->-r requirements.txt (line 3)) (0.17.0)\r\n",
      "Requirement already satisfied: watchfiles>=0.13 in ./venv/lib/python3.11/site-packages (from uvicorn[standard]>=0.18.3->chromadb->-r requirements.txt (line 3)) (0.19.0)\r\n",
      "Requirement already satisfied: deprecated~=1.2.0 in ./venv/lib/python3.11/site-packages (from argilla->unstructured->-r requirements.txt (line 12)) (1.2.14)\r\n",
      "Requirement already satisfied: wrapt~=1.13.0 in ./venv/lib/python3.11/site-packages (from argilla->unstructured->-r requirements.txt (line 12)) (1.13.3)\r\n",
      "Requirement already satisfied: sniffio in ./venv/lib/python3.11/site-packages (from httpx->gradio->-r requirements.txt (line 17)) (1.3.0)\r\n",
      "Requirement already satisfied: rfc3986[idna2008]<2,>=1.3 in ./venv/lib/python3.11/site-packages (from httpx->gradio->-r requirements.txt (line 17)) (1.5.0)\r\n",
      "Requirement already satisfied: httpcore==0.11.* in ./venv/lib/python3.11/site-packages (from httpx->gradio->-r requirements.txt (line 17)) (0.11.1)\r\n",
      "Requirement already satisfied: contourpy>=1.0.1 in ./venv/lib/python3.11/site-packages (from matplotlib->gradio->-r requirements.txt (line 17)) (1.0.7)\r\n",
      "Requirement already satisfied: cycler>=0.10 in ./venv/lib/python3.11/site-packages (from matplotlib->gradio->-r requirements.txt (line 17)) (0.11.0)\r\n",
      "Requirement already satisfied: fonttools>=4.22.0 in ./venv/lib/python3.11/site-packages (from matplotlib->gradio->-r requirements.txt (line 17)) (4.39.4)\r\n",
      "Requirement already satisfied: kiwisolver>=1.0.1 in ./venv/lib/python3.11/site-packages (from matplotlib->gradio->-r requirements.txt (line 17)) (1.4.4)\r\n",
      "Requirement already satisfied: pyparsing>=2.3.1 in ./venv/lib/python3.11/site-packages (from matplotlib->gradio->-r requirements.txt (line 17)) (3.0.9)\r\n",
      "Requirement already satisfied: olefile>=0.46 in ./venv/lib/python3.11/site-packages (from msg-parser->unstructured->-r requirements.txt (line 12)) (0.46)\r\n",
      "Requirement already satisfied: joblib in ./venv/lib/python3.11/site-packages (from nltk->unstructured->-r requirements.txt (line 12)) (1.2.0)\r\n",
      "Requirement already satisfied: et-xmlfile in ./venv/lib/python3.11/site-packages (from openpyxl->unstructured->-r requirements.txt (line 12)) (1.1.0)\r\n",
      "Requirement already satisfied: cryptography>=36.0.0 in ./venv/lib/python3.11/site-packages (from pdfminer.six->unstructured->-r requirements.txt (line 12)) (40.0.2)\r\n",
      "Requirement already satisfied: XlsxWriter>=0.5.7 in ./venv/lib/python3.11/site-packages (from python-pptx->unstructured->-r requirements.txt (line 12)) (3.1.2)\r\n",
      "Requirement already satisfied: cffi>=1.12 in ./venv/lib/python3.11/site-packages (from cryptography>=36.0.0->pdfminer.six->unstructured->-r requirements.txt (line 12)) (1.15.1)\r\n",
      "Requirement already satisfied: pyrsistent!=0.17.0,!=0.17.1,!=0.17.2,>=0.14.0 in ./venv/lib/python3.11/site-packages (from jsonschema>=3.0->altair>=4.2.0->gradio->-r requirements.txt (line 17)) (0.19.3)\r\n",
      "Requirement already satisfied: uc-micro-py in ./venv/lib/python3.11/site-packages (from linkify-it-py<3,>=1->markdown-it-py[linkify]>=2.0.0->gradio->-r requirements.txt (line 17)) (1.0.2)\r\n",
      "Requirement already satisfied: anyio<5,>=3.4.0 in ./venv/lib/python3.11/site-packages (from starlette<0.28.0,>=0.27.0->fastapi>=0.85.1->chromadb->-r requirements.txt (line 3)) (3.6.2)\r\n",
      "Requirement already satisfied: mypy-extensions>=0.3.0 in ./venv/lib/python3.11/site-packages (from typing-inspect>=0.4.0->dataclasses-json<0.6.0,>=0.5.7->langchain->-r requirements.txt (line 1)) (1.0.0)\r\n",
      "Requirement already satisfied: humanfriendly>=9.1 in ./venv/lib/python3.11/site-packages (from coloredlogs->onnxruntime>=1.14.1->chromadb->-r requirements.txt (line 3)) (10.0)\r\n",
      "Requirement already satisfied: mpmath>=0.19 in ./venv/lib/python3.11/site-packages (from sympy->onnxruntime>=1.14.1->chromadb->-r requirements.txt (line 3)) (1.3.0)\r\n",
      "Requirement already satisfied: pycparser in ./venv/lib/python3.11/site-packages (from cffi>=1.12->cryptography>=36.0.0->pdfminer.six->unstructured->-r requirements.txt (line 12)) (2.21)\r\n"
     ]
    }
   ],
   "source": [
    "!pip install -r requirements.txt"
   ]
  },
  {
   "cell_type": "markdown",
   "source": [],
   "metadata": {
    "collapsed": false
   }
  },
  {
   "cell_type": "code",
   "execution_count": 22,
   "outputs": [],
   "source": [
    "from langchain.document_loaders import UnstructuredURLLoader\n",
    "from langchain.embeddings import OpenAIEmbeddings\n",
    "from langchain.text_splitter import RecursiveCharacterTextSplitter\n",
    "from langchain.vectorstores import Chroma"
   ],
   "metadata": {
    "collapsed": false,
    "ExecuteTime": {
     "end_time": "2023-05-30T06:39:18.721991Z",
     "start_time": "2023-05-30T06:39:18.715747Z"
    }
   }
  },
  {
   "cell_type": "markdown",
   "source": [
    "## 讀一些pdf之類的東西"
   ],
   "metadata": {
    "collapsed": false
   }
  },
  {
   "cell_type": "code",
   "execution_count": 23,
   "outputs": [],
   "source": [
    "urls = [\n",
    "    \"https://fundreport.moneydj.com/FileOpenAPI.aspx?A=SPY&B=4&type=GetETFInfo1\", # 英文pdf\n",
    "    \"https://www.yuantafunds.com/fund/download/1066%E5%8F%B0%E7%81%A3%E5%8D%93%E8%B6%8A50-%E5%85%AC%E9%96%8B%E8%AA%AA%E6%98%8E%E6%9B%B8.pdf\",  # 中文pdf\n",
    "    \"https://i.imgur.com/QU8C5va.jpg\",  # 中文jpg\n",
    "    \"https://www.mtsac.edu/webdesign/accessible-docs/word/example03.docx\",  # 英文word\n",
    "    \"https://scholar.harvard.edu/files/torman_personal/files/samplepptx.pptx\",  # 英文ppt\n",
    "    \"https://dornsife.usc.edu/assets/sites/298/docs/ir211wk12sample.xls\",  # 英文excel\n",
    "]"
   ],
   "metadata": {
    "collapsed": false,
    "ExecuteTime": {
     "end_time": "2023-05-30T06:39:22.384055Z",
     "start_time": "2023-05-30T06:39:22.377398Z"
    }
   }
  },
  {
   "cell_type": "markdown",
   "source": [
    "用Unstructured讀"
   ],
   "metadata": {
    "collapsed": false
   }
  },
  {
   "cell_type": "code",
   "execution_count": 24,
   "outputs": [
    {
     "data": {
      "text/plain": "6"
     },
     "execution_count": 24,
     "metadata": {},
     "output_type": "execute_result"
    }
   ],
   "source": [
    "loader = UnstructuredURLLoader(urls=urls)\n",
    "documents = loader.load()\n",
    "len(documents)"
   ],
   "metadata": {
    "collapsed": false,
    "ExecuteTime": {
     "end_time": "2023-05-30T06:39:37.431259Z",
     "start_time": "2023-05-30T06:39:26.857416Z"
    }
   }
  },
  {
   "cell_type": "markdown",
   "source": [
    "切割之後進vectordb"
   ],
   "metadata": {
    "collapsed": false
   }
  },
  {
   "cell_type": "code",
   "execution_count": 25,
   "outputs": [
    {
     "name": "stdout",
     "output_type": "stream",
     "text": [
      "Splitting documents\n",
      "Creating vectorstore\n"
     ]
    }
   ],
   "source": [
    "print(\"Splitting documents\")\n",
    "text_splitter = RecursiveCharacterTextSplitter(chunk_size=200, chunk_overlap=10)\n",
    "texts = text_splitter.split_documents(documents)\n",
    "\n",
    "embeddings = OpenAIEmbeddings()\n",
    "\n",
    "print(\"Creating vectorstore\")\n",
    "db = Chroma.from_documents(texts, embeddings)"
   ],
   "metadata": {
    "collapsed": false,
    "ExecuteTime": {
     "end_time": "2023-05-30T06:39:51.449338Z",
     "start_time": "2023-05-30T06:39:42.579205Z"
    }
   }
  },
  {
   "cell_type": "markdown",
   "source": [
    "驗證看看有沒有找到東西"
   ],
   "metadata": {
    "collapsed": false
   }
  },
  {
   "cell_type": "code",
   "execution_count": 39,
   "outputs": [
    {
     "name": "stdout",
     "output_type": "stream",
     "text": [
      "中英文pdf:\n",
      "-------------------------------\n",
      "to use these trademarks pursuant to a sublicense from State Street Global Advisors Funds Distributors, LLC. SPDR® S&P 500® ETF Trust is not sponsored, endorsed, sold or promoted by S&P, its affiliates\n",
      "-------------------------------\n",
      "第十五條 收益分配 第一項 本基金投資所得之現金股利、利息收 入、已實現盈餘配股之股票股利面額 部分、收益平準金、已實現資本利得 扣除資本損失(包括已實現及未實現 之資本損失)及本基金應負擔之各項 成本費用後，為可分配收益。 基金收益分配以當年度之實際可分 配收益餘額為正數方得分配。本基金 每受益權單位之可分配收益低於會 計年度結束日每受益權單位淨資產 價值百分之____，經理公司不予分\n",
      "-------------------------------\n",
      "\n",
      "中文jpg\n",
      "-------------------------------\n",
      "mais\n",
      "\n",
      "is Toyota Camry [el4RavlA EAR > AOS Fa > FSSRASER KART BHA R SON THB\n",
      "\n",
      "Jy 1~4 fi 1~4\n",
      "-------------------------------\n",
      "為平衡型基金。\n",
      "\n",
      "15 民國 111 年 11 月 29 日募集成立「元大全球投資級債券傘型證券投資信託基 金之元大 0 至 2 年投資級企業債券證券投資信託基金」、「元大全球投資級債 券傘型證券投資信託基金之元大 2 至 10 年投資級企業債券證券投資信託基 金」及「元大全球投資級債券傘型證券投資信託基金之元大 10 年以上投資級 企業債券證券投資信託基金」，均為債券型基金。\n",
      "-------------------------------\n",
      "\n",
      "英文word/ppt/excel\n",
      "-------------------------------\n",
      "Word Documents Template\n",
      "\n",
      "Main heading: \n",
      "\n",
      "Use the Heading 1 style for primary headings so that screen readers can identify them as such. \n",
      "\n",
      "If not already, manually change your heading 1 style to be:\n",
      "-------------------------------\n",
      "Sample PowerPoint File\n",
      "\n",
      "St. Cloud Technical College\n",
      "\n",
      "This is a Sample Slide\n",
      "\n",
      "Here is an outline of bulleted points\n",
      "-------------------------------\n",
      "Desk\n",
      "      3.000000\n",
      "      275.000000\n",
      "      825.000000\n",
      "      \n",
      "      \n",
      "      \n",
      "      \n",
      "      \n",
      "      \n",
      "      \n",
      "      \n",
      "      \n",
      "    \n",
      "    \n",
      "      2015-03-07\n",
      "      West\n",
      "      Sorvino\n",
      "      Binder\n",
      "-------------------------------\n"
     ]
    }
   ],
   "source": [
    "def query(q):\n",
    "    docs = db.similarity_search(q)\n",
    "    return docs[0].page_content\n",
    "\n",
    "print(\"中英文pdf:\")\n",
    "print(\"-------------------------------\")\n",
    "print(query(\"S&P 500 ETF sponsor\"))\n",
    "print(\"-------------------------------\")\n",
    "print(query(\"0050收益分配\"))\n",
    "print(\"-------------------------------\")\n",
    "print(\"\")\n",
    "print(\"中文jpg\")\n",
    "print(\"-------------------------------\")\n",
    "print(query(\"Toyota Camry\"))\n",
    "print(\"-------------------------------\")\n",
    "print(query(\"高級轎車\"))\n",
    "print(\"-------------------------------\")\n",
    "print(\"\")\n",
    "print(\"英文word/ppt/excel\")\n",
    "print(\"-------------------------------\")\n",
    "print(query(\"Word Documents Template\"))\n",
    "print(\"-------------------------------\")\n",
    "print(query(\"Sample PowerPoint File\"))\n",
    "print(\"-------------------------------\")\n",
    "print(query(\"SalesOrders Smith Desk\"))\n",
    "print(\"-------------------------------\")\n"
   ],
   "metadata": {
    "collapsed": false,
    "ExecuteTime": {
     "end_time": "2023-05-30T06:48:46.559268Z",
     "start_time": "2023-05-30T06:48:43.829583Z"
    }
   }
  },
  {
   "cell_type": "markdown",
   "source": [
    "## 結論\n",
    "1. 內建Unstructured套件針對中英文pdf效果都很好\n",
    "2. 內建Unstructured套件對word/ppt/excel支援也很好\n",
    "3. 對中文圖像辨識OCR支援不佳。需要再研究使用其他第三方套件。"
   ],
   "metadata": {
    "collapsed": false
   }
  },
  {
   "cell_type": "code",
   "execution_count": 6,
   "outputs": [],
   "source": [],
   "metadata": {
    "collapsed": false,
    "ExecuteTime": {
     "end_time": "2023-05-30T06:28:49.057053Z",
     "start_time": "2023-05-30T06:28:49.055655Z"
    }
   }
  }
 ],
 "metadata": {
  "kernelspec": {
   "display_name": "Python 3",
   "language": "python",
   "name": "python3"
  },
  "language_info": {
   "codemirror_mode": {
    "name": "ipython",
    "version": 2
   },
   "file_extension": ".py",
   "mimetype": "text/x-python",
   "name": "python",
   "nbconvert_exporter": "python",
   "pygments_lexer": "ipython2",
   "version": "2.7.6"
  }
 },
 "nbformat": 4,
 "nbformat_minor": 0
}
