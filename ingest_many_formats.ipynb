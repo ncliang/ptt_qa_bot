{
 "cells": [
  {
   "cell_type": "markdown",
   "source": [
    "# 嘗試用`langchain`讀取各種格式的檔案"
   ],
   "metadata": {
    "collapsed": false
   }
  },
  {
   "cell_type": "markdown",
   "source": [
    "## 安裝需要的套件"
   ],
   "metadata": {
    "collapsed": false
   }
  },
  {
   "cell_type": "code",
   "execution_count": 1,
   "metadata": {
    "collapsed": true,
    "ExecuteTime": {
     "end_time": "2023-05-31T11:18:39.711387Z",
     "start_time": "2023-05-31T11:18:38.058711Z"
    }
   },
   "outputs": [
    {
     "name": "stdout",
     "output_type": "stream",
     "text": [
      "Requirement already satisfied: langchain in ./venv/lib/python3.10/site-packages (from -r requirements.txt (line 1)) (0.0.186)\r\n",
      "Requirement already satisfied: openai in ./venv/lib/python3.10/site-packages (from -r requirements.txt (line 2)) (0.27.7)\r\n",
      "Requirement already satisfied: chromadb in ./venv/lib/python3.10/site-packages (from -r requirements.txt (line 3)) (0.3.25)\r\n",
      "Requirement already satisfied: tabulate in ./venv/lib/python3.10/site-packages (from -r requirements.txt (line 4)) (0.9.0)\r\n",
      "Requirement already satisfied: pdf2image in ./venv/lib/python3.10/site-packages (from -r requirements.txt (line 5)) (1.16.3)\r\n",
      "Requirement already satisfied: pytesseract in ./venv/lib/python3.10/site-packages (from -r requirements.txt (line 6)) (0.3.10)\r\n",
      "Requirement already satisfied: libmagic in ./venv/lib/python3.10/site-packages (from -r requirements.txt (line 7)) (1.0)\r\n",
      "Requirement already satisfied: urllib3==1.26.6 in ./venv/lib/python3.10/site-packages (from -r requirements.txt (line 8)) (1.26.6)\r\n",
      "Requirement already satisfied: requests in ./venv/lib/python3.10/site-packages (from -r requirements.txt (line 9)) (2.31.0)\r\n",
      "Requirement already satisfied: beautifulsoup4 in ./venv/lib/python3.10/site-packages (from -r requirements.txt (line 10)) (4.12.2)\r\n",
      "Requirement already satisfied: html2text in ./venv/lib/python3.10/site-packages (from -r requirements.txt (line 11)) (2020.1.16)\r\n",
      "Requirement already satisfied: unstructured in ./venv/lib/python3.10/site-packages (from -r requirements.txt (line 12)) (0.6.11)\r\n",
      "Requirement already satisfied: tiktoken in ./venv/lib/python3.10/site-packages (from -r requirements.txt (line 13)) (0.4.0)\r\n",
      "Requirement already satisfied: tesseract in ./venv/lib/python3.10/site-packages (from -r requirements.txt (line 14)) (0.1.3)\r\n",
      "Requirement already satisfied: gradio in ./venv/lib/python3.10/site-packages (from -r requirements.txt (line 17)) (3.11.0)\r\n",
      "Requirement already satisfied: paddleocr in ./venv/lib/python3.10/site-packages (from -r requirements.txt (line 20)) (2.6.1.3)\r\n",
      "Requirement already satisfied: paddlepaddle in ./venv/lib/python3.10/site-packages (from -r requirements.txt (line 21)) (2.4.2)\r\n",
      "Requirement already satisfied: aiohttp<4.0.0,>=3.8.3 in ./venv/lib/python3.10/site-packages (from langchain->-r requirements.txt (line 1)) (3.8.4)\r\n",
      "Requirement already satisfied: numpy<2,>=1 in ./venv/lib/python3.10/site-packages (from langchain->-r requirements.txt (line 1)) (1.23.5)\r\n",
      "Requirement already satisfied: dataclasses-json<0.6.0,>=0.5.7 in ./venv/lib/python3.10/site-packages (from langchain->-r requirements.txt (line 1)) (0.5.7)\r\n",
      "Requirement already satisfied: pydantic<2,>=1 in ./venv/lib/python3.10/site-packages (from langchain->-r requirements.txt (line 1)) (1.10.8)\r\n",
      "Requirement already satisfied: PyYAML>=5.4.1 in ./venv/lib/python3.10/site-packages (from langchain->-r requirements.txt (line 1)) (6.0)\r\n",
      "Requirement already satisfied: tenacity<9.0.0,>=8.1.0 in ./venv/lib/python3.10/site-packages (from langchain->-r requirements.txt (line 1)) (8.2.2)\r\n",
      "Requirement already satisfied: openapi-schema-pydantic<2.0,>=1.2 in ./venv/lib/python3.10/site-packages (from langchain->-r requirements.txt (line 1)) (1.2.4)\r\n",
      "Requirement already satisfied: SQLAlchemy<3,>=1.4 in ./venv/lib/python3.10/site-packages (from langchain->-r requirements.txt (line 1)) (2.0.15)\r\n",
      "Requirement already satisfied: numexpr<3.0.0,>=2.8.4 in ./venv/lib/python3.10/site-packages (from langchain->-r requirements.txt (line 1)) (2.8.4)\r\n",
      "Requirement already satisfied: async-timeout<5.0.0,>=4.0.0 in ./venv/lib/python3.10/site-packages (from langchain->-r requirements.txt (line 1)) (4.0.2)\r\n",
      "Requirement already satisfied: tqdm in ./venv/lib/python3.10/site-packages (from openai->-r requirements.txt (line 2)) (4.65.0)\r\n",
      "Requirement already satisfied: clickhouse-connect>=0.5.7 in ./venv/lib/python3.10/site-packages (from chromadb->-r requirements.txt (line 3)) (0.5.25)\r\n",
      "Requirement already satisfied: fastapi>=0.85.1 in ./venv/lib/python3.10/site-packages (from chromadb->-r requirements.txt (line 3)) (0.95.2)\r\n",
      "Requirement already satisfied: typing-extensions>=4.5.0 in ./venv/lib/python3.10/site-packages (from chromadb->-r requirements.txt (line 3)) (4.6.2)\r\n",
      "Requirement already satisfied: hnswlib>=0.7 in ./venv/lib/python3.10/site-packages (from chromadb->-r requirements.txt (line 3)) (0.7.0)\r\n",
      "Requirement already satisfied: uvicorn[standard]>=0.18.3 in ./venv/lib/python3.10/site-packages (from chromadb->-r requirements.txt (line 3)) (0.22.0)\r\n",
      "Requirement already satisfied: overrides>=7.3.1 in ./venv/lib/python3.10/site-packages (from chromadb->-r requirements.txt (line 3)) (7.3.1)\r\n",
      "Requirement already satisfied: duckdb>=0.7.1 in ./venv/lib/python3.10/site-packages (from chromadb->-r requirements.txt (line 3)) (0.8.0)\r\n",
      "Requirement already satisfied: onnxruntime>=1.14.1 in ./venv/lib/python3.10/site-packages (from chromadb->-r requirements.txt (line 3)) (1.15.0)\r\n",
      "Requirement already satisfied: posthog>=2.4.0 in ./venv/lib/python3.10/site-packages (from chromadb->-r requirements.txt (line 3)) (3.0.1)\r\n",
      "Requirement already satisfied: tokenizers>=0.13.2 in ./venv/lib/python3.10/site-packages (from chromadb->-r requirements.txt (line 3)) (0.13.3)\r\n",
      "Requirement already satisfied: pandas>=1.3 in ./venv/lib/python3.10/site-packages (from chromadb->-r requirements.txt (line 3)) (1.5.3)\r\n",
      "Requirement already satisfied: pillow in ./venv/lib/python3.10/site-packages (from pdf2image->-r requirements.txt (line 5)) (9.5.0)\r\n",
      "Requirement already satisfied: packaging>=21.3 in ./venv/lib/python3.10/site-packages (from pytesseract->-r requirements.txt (line 6)) (23.1)\r\n",
      "Requirement already satisfied: charset-normalizer<4,>=2 in ./venv/lib/python3.10/site-packages (from requests->-r requirements.txt (line 9)) (3.1.0)\r\n",
      "Requirement already satisfied: idna<4,>=2.5 in ./venv/lib/python3.10/site-packages (from requests->-r requirements.txt (line 9)) (3.4)\r\n",
      "Requirement already satisfied: certifi>=2017.4.17 in ./venv/lib/python3.10/site-packages (from requests->-r requirements.txt (line 9)) (2023.5.7)\r\n",
      "Requirement already satisfied: soupsieve>1.2 in ./venv/lib/python3.10/site-packages (from beautifulsoup4->-r requirements.txt (line 10)) (2.4.1)\r\n",
      "Requirement already satisfied: python-pptx in ./venv/lib/python3.10/site-packages (from unstructured->-r requirements.txt (line 12)) (0.6.21)\r\n",
      "Requirement already satisfied: xlrd in ./venv/lib/python3.10/site-packages (from unstructured->-r requirements.txt (line 12)) (2.0.1)\r\n",
      "Requirement already satisfied: markdown in ./venv/lib/python3.10/site-packages (from unstructured->-r requirements.txt (line 12)) (3.4.3)\r\n",
      "Requirement already satisfied: pypandoc in ./venv/lib/python3.10/site-packages (from unstructured->-r requirements.txt (line 12)) (1.11)\r\n",
      "Requirement already satisfied: python-docx in ./venv/lib/python3.10/site-packages (from unstructured->-r requirements.txt (line 12)) (0.8.11)\r\n",
      "Requirement already satisfied: argilla in ./venv/lib/python3.10/site-packages (from unstructured->-r requirements.txt (line 12)) (1.7.0)\r\n",
      "Requirement already satisfied: chardet in ./venv/lib/python3.10/site-packages (from unstructured->-r requirements.txt (line 12)) (5.1.0)\r\n",
      "Requirement already satisfied: pdfminer.six in ./venv/lib/python3.10/site-packages (from unstructured->-r requirements.txt (line 12)) (20221105)\r\n",
      "Requirement already satisfied: nltk in ./venv/lib/python3.10/site-packages (from unstructured->-r requirements.txt (line 12)) (3.8.1)\r\n",
      "Requirement already satisfied: python-magic in ./venv/lib/python3.10/site-packages (from unstructured->-r requirements.txt (line 12)) (0.4.27)\r\n",
      "Requirement already satisfied: lxml in ./venv/lib/python3.10/site-packages (from unstructured->-r requirements.txt (line 12)) (4.9.2)\r\n",
      "Requirement already satisfied: openpyxl in ./venv/lib/python3.10/site-packages (from unstructured->-r requirements.txt (line 12)) (3.1.2)\r\n",
      "Requirement already satisfied: msg-parser in ./venv/lib/python3.10/site-packages (from unstructured->-r requirements.txt (line 12)) (1.2.0)\r\n",
      "Requirement already satisfied: regex>=2022.1.18 in ./venv/lib/python3.10/site-packages (from tiktoken->-r requirements.txt (line 13)) (2023.5.5)\r\n",
      "Requirement already satisfied: markdown-it-py[linkify,plugins] in ./venv/lib/python3.10/site-packages (from gradio->-r requirements.txt (line 17)) (2.2.0)\r\n",
      "Requirement already satisfied: fsspec in ./venv/lib/python3.10/site-packages (from gradio->-r requirements.txt (line 17)) (2023.5.0)\r\n",
      "Requirement already satisfied: matplotlib in ./venv/lib/python3.10/site-packages (from gradio->-r requirements.txt (line 17)) (3.7.1)\r\n",
      "Requirement already satisfied: httpx in ./venv/lib/python3.10/site-packages (from gradio->-r requirements.txt (line 17)) (0.23.3)\r\n",
      "Requirement already satisfied: jinja2 in ./venv/lib/python3.10/site-packages (from gradio->-r requirements.txt (line 17)) (3.1.2)\r\n",
      "Requirement already satisfied: pydub in ./venv/lib/python3.10/site-packages (from gradio->-r requirements.txt (line 17)) (0.25.1)\r\n",
      "Requirement already satisfied: pycryptodome in ./venv/lib/python3.10/site-packages (from gradio->-r requirements.txt (line 17)) (3.18.0)\r\n",
      "Requirement already satisfied: python-multipart in ./venv/lib/python3.10/site-packages (from gradio->-r requirements.txt (line 17)) (0.0.6)\r\n",
      "Requirement already satisfied: h11<0.13,>=0.11 in ./venv/lib/python3.10/site-packages (from gradio->-r requirements.txt (line 17)) (0.12.0)\r\n",
      "Requirement already satisfied: ffmpy in ./venv/lib/python3.10/site-packages (from gradio->-r requirements.txt (line 17)) (0.3.0)\r\n",
      "Requirement already satisfied: paramiko in ./venv/lib/python3.10/site-packages (from gradio->-r requirements.txt (line 17)) (3.2.0)\r\n",
      "Requirement already satisfied: websockets>=10.0 in ./venv/lib/python3.10/site-packages (from gradio->-r requirements.txt (line 17)) (11.0.3)\r\n",
      "Requirement already satisfied: orjson in ./venv/lib/python3.10/site-packages (from gradio->-r requirements.txt (line 17)) (3.8.14)\r\n",
      "Requirement already satisfied: pyclipper in ./venv/lib/python3.10/site-packages (from paddleocr->-r requirements.txt (line 20)) (1.3.0.post4)\r\n",
      "Requirement already satisfied: PyMuPDF<1.21.0 in ./venv/lib/python3.10/site-packages (from paddleocr->-r requirements.txt (line 20)) (1.20.2)\r\n",
      "Requirement already satisfied: lmdb in ./venv/lib/python3.10/site-packages (from paddleocr->-r requirements.txt (line 20)) (1.4.1)\r\n",
      "Requirement already satisfied: fonttools>=4.24.0 in ./venv/lib/python3.10/site-packages (from paddleocr->-r requirements.txt (line 20)) (4.39.4)\r\n",
      "Requirement already satisfied: attrdict in ./venv/lib/python3.10/site-packages (from paddleocr->-r requirements.txt (line 20)) (2.0.1)\r\n",
      "Requirement already satisfied: fire>=0.3.0 in ./venv/lib/python3.10/site-packages (from paddleocr->-r requirements.txt (line 20)) (0.5.0)\r\n",
      "Requirement already satisfied: pdf2docx in ./venv/lib/python3.10/site-packages (from paddleocr->-r requirements.txt (line 20)) (0.5.6)\r\n",
      "Requirement already satisfied: cython in ./venv/lib/python3.10/site-packages (from paddleocr->-r requirements.txt (line 20)) (0.29.35)\r\n",
      "Requirement already satisfied: visualdl in ./venv/lib/python3.10/site-packages (from paddleocr->-r requirements.txt (line 20)) (2.5.2)\r\n",
      "Requirement already satisfied: opencv-contrib-python<=4.6.0.66 in ./venv/lib/python3.10/site-packages (from paddleocr->-r requirements.txt (line 20)) (4.6.0.66)\r\n",
      "Requirement already satisfied: shapely in ./venv/lib/python3.10/site-packages (from paddleocr->-r requirements.txt (line 20)) (2.0.1)\r\n",
      "Requirement already satisfied: imgaug in ./venv/lib/python3.10/site-packages (from paddleocr->-r requirements.txt (line 20)) (0.4.0)\r\n",
      "Requirement already satisfied: rapidfuzz in ./venv/lib/python3.10/site-packages (from paddleocr->-r requirements.txt (line 20)) (3.0.0)\r\n",
      "Requirement already satisfied: premailer in ./venv/lib/python3.10/site-packages (from paddleocr->-r requirements.txt (line 20)) (3.10.0)\r\n",
      "Requirement already satisfied: opencv-python<=4.6.0.66 in ./venv/lib/python3.10/site-packages (from paddleocr->-r requirements.txt (line 20)) (4.6.0.66)\r\n",
      "Requirement already satisfied: scikit-image in ./venv/lib/python3.10/site-packages (from paddleocr->-r requirements.txt (line 20)) (0.20.0)\r\n",
      "Requirement already satisfied: opt-einsum==3.3.0 in ./venv/lib/python3.10/site-packages (from paddlepaddle->-r requirements.txt (line 21)) (3.3.0)\r\n",
      "Requirement already satisfied: decorator in ./venv/lib/python3.10/site-packages (from paddlepaddle->-r requirements.txt (line 21)) (5.1.1)\r\n",
      "Requirement already satisfied: protobuf<=3.20.0,>=3.1.0 in ./venv/lib/python3.10/site-packages (from paddlepaddle->-r requirements.txt (line 21)) (3.20.0)\r\n",
      "Requirement already satisfied: six in ./venv/lib/python3.10/site-packages (from paddlepaddle->-r requirements.txt (line 21)) (1.16.0)\r\n",
      "Requirement already satisfied: paddle-bfloat==0.1.7 in ./venv/lib/python3.10/site-packages (from paddlepaddle->-r requirements.txt (line 21)) (0.1.7)\r\n",
      "Requirement already satisfied: astor in ./venv/lib/python3.10/site-packages (from paddlepaddle->-r requirements.txt (line 21)) (0.8.1)\r\n",
      "Requirement already satisfied: attrs>=17.3.0 in ./venv/lib/python3.10/site-packages (from aiohttp<4.0.0,>=3.8.3->langchain->-r requirements.txt (line 1)) (23.1.0)\r\n",
      "Requirement already satisfied: yarl<2.0,>=1.0 in ./venv/lib/python3.10/site-packages (from aiohttp<4.0.0,>=3.8.3->langchain->-r requirements.txt (line 1)) (1.9.2)\r\n",
      "Requirement already satisfied: multidict<7.0,>=4.5 in ./venv/lib/python3.10/site-packages (from aiohttp<4.0.0,>=3.8.3->langchain->-r requirements.txt (line 1)) (6.0.4)\r\n",
      "Requirement already satisfied: aiosignal>=1.1.2 in ./venv/lib/python3.10/site-packages (from aiohttp<4.0.0,>=3.8.3->langchain->-r requirements.txt (line 1)) (1.3.1)\r\n",
      "Requirement already satisfied: frozenlist>=1.1.1 in ./venv/lib/python3.10/site-packages (from aiohttp<4.0.0,>=3.8.3->langchain->-r requirements.txt (line 1)) (1.3.3)\r\n",
      "Requirement already satisfied: lz4 in ./venv/lib/python3.10/site-packages (from clickhouse-connect>=0.5.7->chromadb->-r requirements.txt (line 3)) (4.3.2)\r\n",
      "Requirement already satisfied: zstandard in ./venv/lib/python3.10/site-packages (from clickhouse-connect>=0.5.7->chromadb->-r requirements.txt (line 3)) (0.21.0)\r\n",
      "Requirement already satisfied: pytz in ./venv/lib/python3.10/site-packages (from clickhouse-connect>=0.5.7->chromadb->-r requirements.txt (line 3)) (2023.3)\r\n",
      "Requirement already satisfied: marshmallow-enum<2.0.0,>=1.5.1 in ./venv/lib/python3.10/site-packages (from dataclasses-json<0.6.0,>=0.5.7->langchain->-r requirements.txt (line 1)) (1.5.1)\r\n",
      "Requirement already satisfied: marshmallow<4.0.0,>=3.3.0 in ./venv/lib/python3.10/site-packages (from dataclasses-json<0.6.0,>=0.5.7->langchain->-r requirements.txt (line 1)) (3.19.0)\r\n",
      "Requirement already satisfied: typing-inspect>=0.4.0 in ./venv/lib/python3.10/site-packages (from dataclasses-json<0.6.0,>=0.5.7->langchain->-r requirements.txt (line 1)) (0.9.0)\r\n",
      "Requirement already satisfied: starlette<0.28.0,>=0.27.0 in ./venv/lib/python3.10/site-packages (from fastapi>=0.85.1->chromadb->-r requirements.txt (line 3)) (0.27.0)\r\n",
      "Requirement already satisfied: termcolor in ./venv/lib/python3.10/site-packages (from fire>=0.3.0->paddleocr->-r requirements.txt (line 20)) (2.3.0)\r\n",
      "Requirement already satisfied: coloredlogs in ./venv/lib/python3.10/site-packages (from onnxruntime>=1.14.1->chromadb->-r requirements.txt (line 3)) (15.0.1)\r\n",
      "Requirement already satisfied: sympy in ./venv/lib/python3.10/site-packages (from onnxruntime>=1.14.1->chromadb->-r requirements.txt (line 3)) (1.12)\r\n",
      "Requirement already satisfied: flatbuffers in ./venv/lib/python3.10/site-packages (from onnxruntime>=1.14.1->chromadb->-r requirements.txt (line 3)) (23.5.26)\r\n",
      "Requirement already satisfied: python-dateutil>=2.8.1 in ./venv/lib/python3.10/site-packages (from pandas>=1.3->chromadb->-r requirements.txt (line 3)) (2.8.2)\r\n",
      "Requirement already satisfied: backoff>=1.10.0 in ./venv/lib/python3.10/site-packages (from posthog>=2.4.0->chromadb->-r requirements.txt (line 3)) (2.2.1)\r\n",
      "Requirement already satisfied: monotonic>=1.5 in ./venv/lib/python3.10/site-packages (from posthog>=2.4.0->chromadb->-r requirements.txt (line 3)) (1.6)\r\n",
      "Requirement already satisfied: click>=7.0 in ./venv/lib/python3.10/site-packages (from uvicorn[standard]>=0.18.3->chromadb->-r requirements.txt (line 3)) (8.1.3)\r\n",
      "Requirement already satisfied: watchfiles>=0.13 in ./venv/lib/python3.10/site-packages (from uvicorn[standard]>=0.18.3->chromadb->-r requirements.txt (line 3)) (0.19.0)\r\n",
      "Requirement already satisfied: uvloop!=0.15.0,!=0.15.1,>=0.14.0 in ./venv/lib/python3.10/site-packages (from uvicorn[standard]>=0.18.3->chromadb->-r requirements.txt (line 3)) (0.17.0)\r\n",
      "Requirement already satisfied: python-dotenv>=0.13 in ./venv/lib/python3.10/site-packages (from uvicorn[standard]>=0.18.3->chromadb->-r requirements.txt (line 3)) (1.0.0)\r\n",
      "Requirement already satisfied: httptools>=0.5.0 in ./venv/lib/python3.10/site-packages (from uvicorn[standard]>=0.18.3->chromadb->-r requirements.txt (line 3)) (0.5.0)\r\n",
      "Requirement already satisfied: typer<1.0.0,>=0.6.0 in ./venv/lib/python3.10/site-packages (from argilla->unstructured->-r requirements.txt (line 12)) (0.9.0)\r\n",
      "Requirement already satisfied: wrapt<1.15,>=1.13 in ./venv/lib/python3.10/site-packages (from argilla->unstructured->-r requirements.txt (line 12)) (1.14.1)\r\n",
      "Requirement already satisfied: rich<=13.0.1 in ./venv/lib/python3.10/site-packages (from argilla->unstructured->-r requirements.txt (line 12)) (13.0.1)\r\n",
      "Requirement already satisfied: deprecated~=1.2.0 in ./venv/lib/python3.10/site-packages (from argilla->unstructured->-r requirements.txt (line 12)) (1.2.14)\r\n",
      "Requirement already satisfied: sniffio in ./venv/lib/python3.10/site-packages (from httpx->gradio->-r requirements.txt (line 17)) (1.3.0)\r\n",
      "Requirement already satisfied: httpcore<0.17.0,>=0.15.0 in ./venv/lib/python3.10/site-packages (from httpx->gradio->-r requirements.txt (line 17)) (0.15.0)\r\n",
      "Requirement already satisfied: rfc3986[idna2008]<2,>=1.3 in ./venv/lib/python3.10/site-packages (from httpx->gradio->-r requirements.txt (line 17)) (1.5.0)\r\n",
      "Requirement already satisfied: scipy in ./venv/lib/python3.10/site-packages (from imgaug->paddleocr->-r requirements.txt (line 20)) (1.10.1)\r\n",
      "Requirement already satisfied: imageio in ./venv/lib/python3.10/site-packages (from imgaug->paddleocr->-r requirements.txt (line 20)) (2.30.0)\r\n",
      "Requirement already satisfied: PyWavelets>=1.1.1 in ./venv/lib/python3.10/site-packages (from scikit-image->paddleocr->-r requirements.txt (line 20)) (1.4.1)\r\n",
      "Requirement already satisfied: tifffile>=2019.7.26 in ./venv/lib/python3.10/site-packages (from scikit-image->paddleocr->-r requirements.txt (line 20)) (2023.4.12)\r\n",
      "Requirement already satisfied: lazy_loader>=0.1 in ./venv/lib/python3.10/site-packages (from scikit-image->paddleocr->-r requirements.txt (line 20)) (0.2)\r\n",
      "Requirement already satisfied: networkx>=2.8 in ./venv/lib/python3.10/site-packages (from scikit-image->paddleocr->-r requirements.txt (line 20)) (3.1)\r\n",
      "Requirement already satisfied: MarkupSafe>=2.0 in ./venv/lib/python3.10/site-packages (from jinja2->gradio->-r requirements.txt (line 17)) (2.1.2)\r\n",
      "Requirement already satisfied: mdurl~=0.1 in ./venv/lib/python3.10/site-packages (from markdown-it-py[linkify,plugins]->gradio->-r requirements.txt (line 17)) (0.1.2)\r\n",
      "Requirement already satisfied: mdit-py-plugins in ./venv/lib/python3.10/site-packages (from markdown-it-py[linkify,plugins]->gradio->-r requirements.txt (line 17)) (0.3.3)\r\n",
      "Requirement already satisfied: linkify-it-py<3,>=1 in ./venv/lib/python3.10/site-packages (from markdown-it-py[linkify,plugins]->gradio->-r requirements.txt (line 17)) (2.0.2)\r\n",
      "Requirement already satisfied: cycler>=0.10 in ./venv/lib/python3.10/site-packages (from matplotlib->gradio->-r requirements.txt (line 17)) (0.11.0)\r\n",
      "Requirement already satisfied: contourpy>=1.0.1 in ./venv/lib/python3.10/site-packages (from matplotlib->gradio->-r requirements.txt (line 17)) (1.0.7)\r\n",
      "Requirement already satisfied: pyparsing>=2.3.1 in ./venv/lib/python3.10/site-packages (from matplotlib->gradio->-r requirements.txt (line 17)) (3.0.9)\r\n",
      "Requirement already satisfied: kiwisolver>=1.0.1 in ./venv/lib/python3.10/site-packages (from matplotlib->gradio->-r requirements.txt (line 17)) (1.4.4)\r\n",
      "Requirement already satisfied: olefile>=0.46 in ./venv/lib/python3.10/site-packages (from msg-parser->unstructured->-r requirements.txt (line 12)) (0.46)\r\n",
      "Requirement already satisfied: joblib in ./venv/lib/python3.10/site-packages (from nltk->unstructured->-r requirements.txt (line 12)) (1.2.0)\r\n",
      "Requirement already satisfied: et-xmlfile in ./venv/lib/python3.10/site-packages (from openpyxl->unstructured->-r requirements.txt (line 12)) (1.1.0)\r\n",
      "Requirement already satisfied: pynacl>=1.5 in ./venv/lib/python3.10/site-packages (from paramiko->gradio->-r requirements.txt (line 17)) (1.5.0)\r\n",
      "Requirement already satisfied: bcrypt>=3.2 in ./venv/lib/python3.10/site-packages (from paramiko->gradio->-r requirements.txt (line 17)) (4.0.1)\r\n",
      "Requirement already satisfied: cryptography>=3.3 in ./venv/lib/python3.10/site-packages (from paramiko->gradio->-r requirements.txt (line 17)) (41.0.0)\r\n",
      "Requirement already satisfied: cssselect in ./venv/lib/python3.10/site-packages (from premailer->paddleocr->-r requirements.txt (line 20)) (1.2.0)\r\n",
      "Requirement already satisfied: cssutils in ./venv/lib/python3.10/site-packages (from premailer->paddleocr->-r requirements.txt (line 20)) (2.6.0)\r\n",
      "Requirement already satisfied: cachetools in ./venv/lib/python3.10/site-packages (from premailer->paddleocr->-r requirements.txt (line 20)) (5.3.1)\r\n",
      "Requirement already satisfied: XlsxWriter>=0.5.7 in ./venv/lib/python3.10/site-packages (from python-pptx->unstructured->-r requirements.txt (line 12)) (3.1.2)\r\n",
      "Requirement already satisfied: psutil in ./venv/lib/python3.10/site-packages (from visualdl->paddleocr->-r requirements.txt (line 20)) (5.9.5)\r\n",
      "Requirement already satisfied: x2paddle>=1.4.0 in ./venv/lib/python3.10/site-packages (from visualdl->paddleocr->-r requirements.txt (line 20)) (1.4.1)\r\n",
      "Requirement already satisfied: tritonclient[all] in ./venv/lib/python3.10/site-packages (from visualdl->paddleocr->-r requirements.txt (line 20)) (2.34.0)\r\n",
      "Requirement already satisfied: onnx>=1.6.0 in ./venv/lib/python3.10/site-packages (from visualdl->paddleocr->-r requirements.txt (line 20)) (1.12.0)\r\n",
      "Requirement already satisfied: Flask-Babel>=3.0.0 in ./venv/lib/python3.10/site-packages (from visualdl->paddleocr->-r requirements.txt (line 20)) (3.1.0)\r\n",
      "Requirement already satisfied: paddle2onnx>=1.0.5 in ./venv/lib/python3.10/site-packages (from visualdl->paddleocr->-r requirements.txt (line 20)) (1.0.6)\r\n",
      "Requirement already satisfied: flask>=1.1.1 in ./venv/lib/python3.10/site-packages (from visualdl->paddleocr->-r requirements.txt (line 20)) (2.3.2)\r\n",
      "Requirement already satisfied: bce-python-sdk in ./venv/lib/python3.10/site-packages (from visualdl->paddleocr->-r requirements.txt (line 20)) (0.8.83)\r\n",
      "Requirement already satisfied: rarfile in ./venv/lib/python3.10/site-packages (from visualdl->paddleocr->-r requirements.txt (line 20)) (4.0)\r\n",
      "Requirement already satisfied: cffi>=1.12 in ./venv/lib/python3.10/site-packages (from cryptography>=3.3->paramiko->gradio->-r requirements.txt (line 17)) (1.15.1)\r\n",
      "Requirement already satisfied: itsdangerous>=2.1.2 in ./venv/lib/python3.10/site-packages (from flask>=1.1.1->visualdl->paddleocr->-r requirements.txt (line 20)) (2.1.2)\r\n",
      "Requirement already satisfied: blinker>=1.6.2 in ./venv/lib/python3.10/site-packages (from flask>=1.1.1->visualdl->paddleocr->-r requirements.txt (line 20)) (1.6.2)\r\n",
      "Requirement already satisfied: Werkzeug>=2.3.3 in ./venv/lib/python3.10/site-packages (from flask>=1.1.1->visualdl->paddleocr->-r requirements.txt (line 20)) (2.3.4)\r\n",
      "Requirement already satisfied: Babel>=2.12 in ./venv/lib/python3.10/site-packages (from Flask-Babel>=3.0.0->visualdl->paddleocr->-r requirements.txt (line 20)) (2.12.1)\r\n",
      "Requirement already satisfied: anyio==3.* in ./venv/lib/python3.10/site-packages (from httpcore<0.17.0,>=0.15.0->httpx->gradio->-r requirements.txt (line 17)) (3.7.0)\r\n",
      "Requirement already satisfied: exceptiongroup in ./venv/lib/python3.10/site-packages (from anyio==3.*->httpcore<0.17.0,>=0.15.0->httpx->gradio->-r requirements.txt (line 17)) (1.1.1)\r\n",
      "Requirement already satisfied: uc-micro-py in ./venv/lib/python3.10/site-packages (from linkify-it-py<3,>=1->markdown-it-py[linkify,plugins]->gradio->-r requirements.txt (line 17)) (1.0.2)\r\n",
      "Requirement already satisfied: pygments<3.0.0,>=2.6.0 in ./venv/lib/python3.10/site-packages (from rich<=13.0.1->argilla->unstructured->-r requirements.txt (line 12)) (2.15.1)\r\n",
      "Requirement already satisfied: commonmark<0.10.0,>=0.9.0 in ./venv/lib/python3.10/site-packages (from rich<=13.0.1->argilla->unstructured->-r requirements.txt (line 12)) (0.9.1)\r\n",
      "Requirement already satisfied: mypy-extensions>=0.3.0 in ./venv/lib/python3.10/site-packages (from typing-inspect>=0.4.0->dataclasses-json<0.6.0,>=0.5.7->langchain->-r requirements.txt (line 1)) (1.0.0)\r\n",
      "Requirement already satisfied: future>=0.6.0 in ./venv/lib/python3.10/site-packages (from bce-python-sdk->visualdl->paddleocr->-r requirements.txt (line 20)) (0.18.3)\r\n",
      "Requirement already satisfied: humanfriendly>=9.1 in ./venv/lib/python3.10/site-packages (from coloredlogs->onnxruntime>=1.14.1->chromadb->-r requirements.txt (line 3)) (10.0)\r\n",
      "Requirement already satisfied: mpmath>=0.19 in ./venv/lib/python3.10/site-packages (from sympy->onnxruntime>=1.14.1->chromadb->-r requirements.txt (line 3)) (1.3.0)\r\n",
      "Requirement already satisfied: python-rapidjson>=0.9.1 in ./venv/lib/python3.10/site-packages (from tritonclient[all]->visualdl->paddleocr->-r requirements.txt (line 20)) (1.10)\r\n",
      "Requirement already satisfied: grpcio>=1.41.0 in ./venv/lib/python3.10/site-packages (from tritonclient[all]->visualdl->paddleocr->-r requirements.txt (line 20)) (1.54.2)\r\n",
      "Requirement already satisfied: geventhttpclient<=2.0.2,>=1.4.4 in ./venv/lib/python3.10/site-packages (from tritonclient[all]->visualdl->paddleocr->-r requirements.txt (line 20)) (2.0.2)\r\n",
      "Requirement already satisfied: pycparser in ./venv/lib/python3.10/site-packages (from cffi>=1.12->cryptography>=3.3->paramiko->gradio->-r requirements.txt (line 17)) (2.21)\r\n",
      "Requirement already satisfied: brotli in ./venv/lib/python3.10/site-packages (from geventhttpclient<=2.0.2,>=1.4.4->tritonclient[all]->visualdl->paddleocr->-r requirements.txt (line 20)) (1.0.9)\r\n",
      "Requirement already satisfied: gevent>=0.13 in ./venv/lib/python3.10/site-packages (from geventhttpclient<=2.0.2,>=1.4.4->tritonclient[all]->visualdl->paddleocr->-r requirements.txt (line 20)) (22.10.2)\r\n",
      "Requirement already satisfied: zope.event in ./venv/lib/python3.10/site-packages (from gevent>=0.13->geventhttpclient<=2.0.2,>=1.4.4->tritonclient[all]->visualdl->paddleocr->-r requirements.txt (line 20)) (4.6)\r\n",
      "Requirement already satisfied: setuptools in ./venv/lib/python3.10/site-packages (from gevent>=0.13->geventhttpclient<=2.0.2,>=1.4.4->tritonclient[all]->visualdl->paddleocr->-r requirements.txt (line 20)) (65.5.1)\r\n",
      "Requirement already satisfied: zope.interface in ./venv/lib/python3.10/site-packages (from gevent>=0.13->geventhttpclient<=2.0.2,>=1.4.4->tritonclient[all]->visualdl->paddleocr->-r requirements.txt (line 20)) (6.0)\r\n",
      "Requirement already satisfied: greenlet>=2.0.0 in ./venv/lib/python3.10/site-packages (from gevent>=0.13->geventhttpclient<=2.0.2,>=1.4.4->tritonclient[all]->visualdl->paddleocr->-r requirements.txt (line 20)) (2.0.2)\r\n",
      "\r\n",
      "\u001B[1m[\u001B[0m\u001B[34;49mnotice\u001B[0m\u001B[1;39;49m]\u001B[0m\u001B[39;49m A new release of pip available: \u001B[0m\u001B[31;49m22.3.1\u001B[0m\u001B[39;49m -> \u001B[0m\u001B[32;49m23.1.2\u001B[0m\r\n",
      "\u001B[1m[\u001B[0m\u001B[34;49mnotice\u001B[0m\u001B[1;39;49m]\u001B[0m\u001B[39;49m To update, run: \u001B[0m\u001B[32;49mpip install --upgrade pip\u001B[0m\r\n"
     ]
    }
   ],
   "source": [
    "!pip install -r requirements.txt"
   ]
  },
  {
   "cell_type": "markdown",
   "source": [],
   "metadata": {
    "collapsed": false
   }
  },
  {
   "cell_type": "code",
   "execution_count": 2,
   "outputs": [],
   "source": [
    "from langchain.document_loaders import UnstructuredURLLoader\n",
    "from langchain.embeddings import OpenAIEmbeddings\n",
    "from langchain.text_splitter import RecursiveCharacterTextSplitter\n",
    "from langchain.vectorstores import Chroma"
   ],
   "metadata": {
    "collapsed": false,
    "ExecuteTime": {
     "end_time": "2023-05-31T11:18:40.297943Z",
     "start_time": "2023-05-31T11:18:39.713194Z"
    }
   }
  },
  {
   "cell_type": "markdown",
   "source": [
    "## 讀一些pdf之類的東西"
   ],
   "metadata": {
    "collapsed": false
   }
  },
  {
   "cell_type": "code",
   "execution_count": 3,
   "outputs": [],
   "source": [
    "urls = [\n",
    "    \"https://fundreport.moneydj.com/FileOpenAPI.aspx?A=SPY&B=4&type=GetETFInfo1\", # 英文pdf\n",
    "    \"https://www.yuantafunds.com/fund/download/1066%E5%8F%B0%E7%81%A3%E5%8D%93%E8%B6%8A50-%E5%85%AC%E9%96%8B%E8%AA%AA%E6%98%8E%E6%9B%B8.pdf\",  # 中文pdf\n",
    "    \"https://i.imgur.com/QU8C5va.jpg\",  # 中文jpg\n",
    "    \"https://www.mtsac.edu/webdesign/accessible-docs/word/example03.docx\",  # 英文word\n",
    "    \"https://scholar.harvard.edu/files/torman_personal/files/samplepptx.pptx\",  # 英文ppt\n",
    "    \"https://dornsife.usc.edu/assets/sites/298/docs/ir211wk12sample.xls\",  # 英文excel\n",
    "    \"https://www.mohw.gov.tw/dl-70183-fdf20a0a-0d1b-467f-a1c8-3864523d3a08.html\",  # 中文word\n",
    "    \"https://homepage.ntu.edu.tw/~karchung/Intro_to_ling/%ADp%BA%E2%BBy%A8%A5%BE%C7%AA%BA%C0%B3%A5%CE.ppt\",  # 中文ppt\n",
    "    \"https://www.chyi.mohw.gov.tw/warehouse/%7B2F8E2C39-A6A9-4DBE-81D7-D9C452DA1C43%7D/%E5%B8%B8%E7%94%A8%E7%B8%AE%E5%AF%AB%E8%A1%A8.xls\",  # 中文excel\n",
    "]"
   ],
   "metadata": {
    "collapsed": false,
    "ExecuteTime": {
     "end_time": "2023-05-31T11:18:40.310309Z",
     "start_time": "2023-05-31T11:18:40.302815Z"
    }
   }
  },
  {
   "cell_type": "markdown",
   "source": [
    "用Unstructured讀"
   ],
   "metadata": {
    "collapsed": false
   }
  },
  {
   "cell_type": "code",
   "execution_count": 4,
   "outputs": [
    {
     "name": "stdout",
     "output_type": "stream",
     "text": [
      "convert /var/folders/lh/l56kxqzx1_71q78v4b44rm4h0000gn/T/tmp87r31um1 -> /private/var/folders/lh/l56kxqzx1_71q78v4b44rm4h0000gn/T/tmpdk82iwek/tmp87r31um1.pptx using filter : Impress Office Open XML\n"
     ]
    },
    {
     "data": {
      "text/plain": "9"
     },
     "execution_count": 4,
     "metadata": {},
     "output_type": "execute_result"
    }
   ],
   "source": [
    "loader = UnstructuredURLLoader(urls=urls)\n",
    "documents = loader.load()\n",
    "len(documents)"
   ],
   "metadata": {
    "collapsed": false,
    "ExecuteTime": {
     "end_time": "2023-05-31T11:18:54.045670Z",
     "start_time": "2023-05-31T11:18:40.312310Z"
    }
   }
  },
  {
   "cell_type": "markdown",
   "source": [
    "切割之後進vectordb"
   ],
   "metadata": {
    "collapsed": false
   }
  },
  {
   "cell_type": "code",
   "execution_count": 5,
   "outputs": [
    {
     "name": "stdout",
     "output_type": "stream",
     "text": [
      "Splitting documents\n",
      "Creating vectorstore\n"
     ]
    }
   ],
   "source": [
    "print(\"Splitting documents\")\n",
    "text_splitter = RecursiveCharacterTextSplitter(chunk_size=200, chunk_overlap=10)\n",
    "texts = text_splitter.split_documents(documents)\n",
    "\n",
    "embeddings = OpenAIEmbeddings()\n",
    "\n",
    "print(\"Creating vectorstore\")\n",
    "db = Chroma.from_documents(texts, embeddings)"
   ],
   "metadata": {
    "collapsed": false,
    "ExecuteTime": {
     "end_time": "2023-05-31T11:19:10.609221Z",
     "start_time": "2023-05-31T11:18:54.092478Z"
    }
   }
  },
  {
   "cell_type": "markdown",
   "source": [
    "驗證看看有沒有找到東西"
   ],
   "metadata": {
    "collapsed": false
   }
  },
  {
   "cell_type": "code",
   "execution_count": 6,
   "outputs": [
    {
     "name": "stdout",
     "output_type": "stream",
     "text": [
      "中英文pdf:\n",
      "-------------------------------\n",
      "('INVESTMENTS IN AFFILIATES OF THE TRUSTEE AND THE SPONSOR SPDR S&P 500® ETF Trust has invested in State Street Corp., which is considered an affiliate of the Trustee and Intercontinental Exchange,', {'source': 'https://fundreport.moneydj.com/FileOpenAPI.aspx?A=SPY&B=4&type=GetETFInfo1'})\n",
      "-------------------------------\n",
      "('第十五條 收益分配 第一項 本基金投資所得之現金股利、利息收 入、已實現盈餘配股之股票股利面額 部分、收益平準金、已實現資本利得 扣除資本損失(包括已實現及未實現 之資本損失)及本基金應負擔之各項 成本費用後，為可分配收益。 基金收益分配以當年度之實際可分 配收益餘額為正數方得分配。本基金 每受益權單位之可分配收益低於會 計年度結束日每受益權單位淨資產 價值百分之____，經理公司不予分', {'source': 'https://www.yuantafunds.com/fund/download/1066%E5%8F%B0%E7%81%A3%E5%8D%93%E8%B6%8A50-%E5%85%AC%E9%96%8B%E8%AA%AA%E6%98%8E%E6%9B%B8.pdf'})\n",
      "-------------------------------\n",
      "\n",
      "中文jpg\n",
      "-------------------------------\n",
      "('Example A:', {'source': 'https://www.mtsac.edu/webdesign/accessible-docs/word/example03.docx'})\n",
      "-------------------------------\n",
      "('1101 1216 1301 1303 1326 1402 1590 亞德客-KY 1605 2002 2207 2303 2308 2317 2327 2330 2357 2379 2382 2395 2408 2412 2454 2603 2609 2615\\n\\n華新 中鋼 和泰車 聯電 台達電 鴻海 國巨 台積電 華碩 瑞昱 廣達 研華 南亞科 中華電 聯發科 長榮 陽明 萬海', {'source': 'https://www.yuantafunds.com/fund/download/1066%E5%8F%B0%E7%81%A3%E5%8D%93%E8%B6%8A50-%E5%85%AC%E9%96%8B%E8%AA%AA%E6%98%8E%E6%9B%B8.pdf'})\n",
      "-------------------------------\n",
      "\n",
      "英文word/ppt/excel\n",
      "-------------------------------\n",
      "('Word Documents Template\\n\\nMain heading: \\n\\nUse the Heading 1 style for primary headings so that screen readers can identify them as such. \\n\\nIf not already, manually change your heading 1 style to be:', {'source': 'https://www.mtsac.edu/webdesign/accessible-docs/word/example03.docx'})\n",
      "-------------------------------\n",
      "('Sample PowerPoint File\\n\\nSt. Cloud Technical College\\n\\nThis is a Sample Slide\\n\\nHere is an outline of bulleted points', {'source': 'https://scholar.harvard.edu/files/torman_personal/files/samplepptx.pptx'})\n",
      "-------------------------------\n",
      "('(四)集合實物申購之各申購人應受分配之受益權單位數應由經理公司按實物申購 日各申購人個別所提供之股票收盤價加計其所給付之現金差額及如有現金替 代情形之現金替代額總額占該次實物申購對價之全部股票收盤價及現金差額 及如有現金替代情形之現金替代額合計總額之比例計算分配之，計算至千單 位，不足一千單位之部分則集中分配予實物申購申請書上所指定之特定一位 申購人。', {'source': 'https://www.yuantafunds.com/fund/download/1066%E5%8F%B0%E7%81%A3%E5%8D%93%E8%B6%8A50-%E5%85%AC%E9%96%8B%E8%AA%AA%E6%98%8E%E6%9B%B8.pdf'})\n",
      "-------------------------------\n",
      "\n",
      "中文word/ppt/excel\n",
      "-------------------------------\n",
      "('死亡證明書\\n\\n病歷號碼：\\n\\n死亡證字：', {'source': 'https://www.mohw.gov.tw/dl-70183-fdf20a0a-0d1b-467f-a1c8-3864523d3a08.html'})\n",
      "-------------------------------\n",
      "('計算語言學的工具資源與應用\\n\\n高照明\\x0b台大外文系\\n\\n中文計算語言學資源與工具\\n\\n語料庫\\n\\n分詞程式\\n\\n語法剖析程式\\n\\n詞彙知識庫\\n\\n語音辨識與語音合成\\n\\n機器翻譯\\n\\n語料庫\\x0b\\n\\n中文語料庫\\n\\n中英雙語語料庫\\n\\n標記詞義的語料庫\\n\\n語法結構樹庫\\n\\n標記語意角色的語料庫\\n\\n基於語料庫的外語學習\\n\\n優點1：語言真實的使用情形\\n\\n優點2：可以客觀計算出最常用的詞彙，句型，搭配語，甚至詞義', {'source': 'https://homepage.ntu.edu.tw/~karchung/Intro_to_ling/%ADp%BA%E2%BBy%A8%A5%BE%C7%AA%BA%C0%B3%A5%CE.ppt'})\n",
      "-------------------------------\n",
      "('－實物買回撤銷', {'source': 'https://www.yuantafunds.com/fund/download/1066%E5%8F%B0%E7%81%A3%E5%8D%93%E8%B6%8A50-%E5%85%AC%E9%96%8B%E8%AA%AA%E6%98%8E%E6%9B%B8.pdf'})\n",
      "-------------------------------\n"
     ]
    }
   ],
   "source": [
    "def query(q):\n",
    "    docs = db.similarity_search(q)\n",
    "    return docs[0].page_content, docs[0].metadata\n",
    "\n",
    "print(\"中英文pdf:\")\n",
    "print(\"-------------------------------\")\n",
    "print(query(\"S&P 500 ETF sponsor\"))\n",
    "print(\"-------------------------------\")\n",
    "print(query(\"0050收益分配\"))\n",
    "print(\"-------------------------------\")\n",
    "print(\"\")\n",
    "print(\"中文jpg\")\n",
    "print(\"-------------------------------\")\n",
    "print(query(\"Toyota Camry\"))\n",
    "print(\"-------------------------------\")\n",
    "print(query(\"高級轎車\"))\n",
    "print(\"-------------------------------\")\n",
    "print(\"\")\n",
    "print(\"英文word/ppt/excel\")\n",
    "print(\"-------------------------------\")\n",
    "print(query(\"Word Documents Template\"))\n",
    "print(\"-------------------------------\")\n",
    "print(query(\"Sample PowerPoint File\"))\n",
    "print(\"-------------------------------\")\n",
    "print(query(\"SalesOrders Smith Desk\"))\n",
    "print(\"-------------------------------\")\n",
    "print(\"\")\n",
    "print(\"中文word/ppt/excel\")\n",
    "print(\"-------------------------------\")\n",
    "print(query(\"死亡證明書\"))\n",
    "print(\"-------------------------------\")\n",
    "print(query(\"計算語言學的工具資源與應用 高照明 台大外文系\"))\n",
    "print(\"-------------------------------\")\n",
    "print(query(\"內視鏡逆行性胰膽管攝影術\"))\n",
    "print(\"-------------------------------\")\n"
   ],
   "metadata": {
    "collapsed": false,
    "ExecuteTime": {
     "end_time": "2023-05-31T11:19:14.349318Z",
     "start_time": "2023-05-31T11:19:10.611451Z"
    }
   }
  },
  {
   "cell_type": "markdown",
   "source": [
    "## 結論\n",
    "1. 內建Unstructured套件針對中英文pdf效果都很好\n",
    "2. 內建Unstructured套件對word/ppt/excel支援也很好\n",
    "3. 對中文圖像辨識OCR支援不佳。需要再研究使用其他第三方套件。"
   ],
   "metadata": {
    "collapsed": false
   }
  },
  {
   "cell_type": "markdown",
   "source": [
    "# 中文OCR套件整合嘗試\n",
    "在這個階段我們嘗試優化中文OCR套件。採用下列步驟嘗試優化\n",
    "1. 嘗試使用用Unstructured內建的Tesseract套件的中文OCR支援。\n",
    "2. 嘗試更換使用中文支援較好的[PaddleOCR](https://github.com/PaddlePaddle/PaddleOCR)做OCR"
   ],
   "metadata": {
    "collapsed": false
   }
  },
  {
   "cell_type": "markdown",
   "source": [
    "## 安裝Tesseract中文\n",
    "https://www.simpleindex.com/knowledge-base/language-pack-for-standard-tesseract-ocr/\n",
    "\n",
    "1. 下載`chi_tra.traineddata` - https://github.com/tesseract-ocr/tessdata/\n",
    "2. 把下載的檔案加到`C:\\Program Files (x86)\\SimpleIndex\\Tesseract\\v3.04\\tessdata`目錄 (Mac用homebrew安裝的路徑在 `/opt/homebrew/Cellar/tesseract/5.3.1/share/tessdata`)\n",
    "3. 用`ocr_languages`參數指定`UnstructuredURLLoader`用繁體中文OCR"
   ],
   "metadata": {
    "collapsed": false
   }
  },
  {
   "cell_type": "code",
   "execution_count": 7,
   "outputs": [
    {
     "name": "stdout",
     "output_type": "stream",
     "text": [
      "Splitting documents\n",
      "Creating vectorstore\n"
     ]
    },
    {
     "name": "stderr",
     "output_type": "stream",
     "text": [
      "Number of requested results 4 is greater than number of elements in index 1, updating n_results = 1\n"
     ]
    },
    {
     "name": "stdout",
     "output_type": "stream",
     "text": [
      "中文jpg\n",
      "-------------------------------\n",
      "(\"﹒aHRSSS ﹍\\n\\ns ﹍\\n\\n@ ﹣ˍ﹍﹍@ @ 乙\\n\\n高 級 轎 車\\n\\n提 供 ﹁Toyota Camry 句 級 或 以 上 的 車 蓮 ， 經 濟 實 惠 ， 捨 乘 體 驗 依 然 舒 適 ， 是 機 場 接 造 最 受 歡 迎 的 服 務 車 著 。\\n\\n﹛_′﹛'籌7 1 穴 4 ˍ工盄 1 穴 4\", {'source': 'https://i.imgur.com/QU8C5va.jpg'})\n",
      "-------------------------------\n"
     ]
    },
    {
     "name": "stderr",
     "output_type": "stream",
     "text": [
      "Number of requested results 4 is greater than number of elements in index 1, updating n_results = 1\n"
     ]
    },
    {
     "name": "stdout",
     "output_type": "stream",
     "text": [
      "(\"﹒aHRSSS ﹍\\n\\ns ﹍\\n\\n@ ﹣ˍ﹍﹍@ @ 乙\\n\\n高 級 轎 車\\n\\n提 供 ﹁Toyota Camry 句 級 或 以 上 的 車 蓮 ， 經 濟 實 惠 ， 捨 乘 體 驗 依 然 舒 適 ， 是 機 場 接 造 最 受 歡 迎 的 服 務 車 著 。\\n\\n﹛_′﹛'籌7 1 穴 4 ˍ工盄 1 穴 4\", {'source': 'https://i.imgur.com/QU8C5va.jpg'})\n",
      "-------------------------------\n"
     ]
    }
   ],
   "source": [
    "urls = [\n",
    "    \"https://i.imgur.com/QU8C5va.jpg\",  # 中文jpg\n",
    "]\n",
    "\n",
    "loader = UnstructuredURLLoader(urls=urls, ocr_languages=\"chi_tra\")\n",
    "documents = loader.load()\n",
    "len(documents)\n",
    "\n",
    "print(\"Splitting documents\")\n",
    "text_splitter = RecursiveCharacterTextSplitter(chunk_size=200, chunk_overlap=10)\n",
    "texts = text_splitter.split_documents(documents)\n",
    "\n",
    "embeddings = OpenAIEmbeddings()\n",
    "\n",
    "print(\"Creating vectorstore\")\n",
    "db = Chroma.from_documents(texts, embeddings)\n",
    "\n",
    "print(\"中文jpg\")\n",
    "print(\"-------------------------------\")\n",
    "print(query(\"Toyota Camry\"))\n",
    "print(\"-------------------------------\")\n",
    "print(query(\"高級轎車\"))\n",
    "print(\"-------------------------------\")\n"
   ],
   "metadata": {
    "collapsed": false,
    "ExecuteTime": {
     "end_time": "2023-05-31T11:19:17.756721Z",
     "start_time": "2023-05-31T11:19:14.353930Z"
    }
   }
  },
  {
   "cell_type": "markdown",
   "source": [
    "光是使用內建Tesseract中文套件就可以有不錯的辨識效果。但這裡多國語文的辨識資料有大概五年沒更新了。或許接上PaddleOCR仍然可以有更好的效果。"
   ],
   "metadata": {
    "collapsed": false
   }
  },
  {
   "cell_type": "markdown",
   "source": [
    "## PaddleOCR"
   ],
   "metadata": {
    "collapsed": false
   }
  },
  {
   "cell_type": "code",
   "execution_count": 8,
   "outputs": [
    {
     "name": "stdout",
     "output_type": "stream",
     "text": [
      "Requirement already satisfied: paddleocr in ./venv/lib/python3.10/site-packages (2.6.1.3)\r\n",
      "Requirement already satisfied: paddlepaddle in ./venv/lib/python3.10/site-packages (2.4.2)\r\n",
      "Requirement already satisfied: opencv-python<=4.6.0.66 in ./venv/lib/python3.10/site-packages (from paddleocr) (4.6.0.66)\r\n",
      "Requirement already satisfied: fire>=0.3.0 in ./venv/lib/python3.10/site-packages (from paddleocr) (0.5.0)\r\n",
      "Requirement already satisfied: beautifulsoup4 in ./venv/lib/python3.10/site-packages (from paddleocr) (4.12.2)\r\n",
      "Requirement already satisfied: cython in ./venv/lib/python3.10/site-packages (from paddleocr) (0.29.35)\r\n",
      "Requirement already satisfied: scikit-image in ./venv/lib/python3.10/site-packages (from paddleocr) (0.20.0)\r\n",
      "Requirement already satisfied: imgaug in ./venv/lib/python3.10/site-packages (from paddleocr) (0.4.0)\r\n",
      "Requirement already satisfied: attrdict in ./venv/lib/python3.10/site-packages (from paddleocr) (2.0.1)\r\n",
      "Requirement already satisfied: visualdl in ./venv/lib/python3.10/site-packages (from paddleocr) (2.5.2)\r\n",
      "Requirement already satisfied: python-docx in ./venv/lib/python3.10/site-packages (from paddleocr) (0.8.11)\r\n",
      "Requirement already satisfied: tqdm in ./venv/lib/python3.10/site-packages (from paddleocr) (4.65.0)\r\n",
      "Requirement already satisfied: PyMuPDF<1.21.0 in ./venv/lib/python3.10/site-packages (from paddleocr) (1.20.2)\r\n",
      "Requirement already satisfied: fonttools>=4.24.0 in ./venv/lib/python3.10/site-packages (from paddleocr) (4.39.4)\r\n",
      "Requirement already satisfied: lmdb in ./venv/lib/python3.10/site-packages (from paddleocr) (1.4.1)\r\n",
      "Requirement already satisfied: openpyxl in ./venv/lib/python3.10/site-packages (from paddleocr) (3.1.2)\r\n",
      "Requirement already satisfied: premailer in ./venv/lib/python3.10/site-packages (from paddleocr) (3.10.0)\r\n",
      "Requirement already satisfied: shapely in ./venv/lib/python3.10/site-packages (from paddleocr) (2.0.1)\r\n",
      "Requirement already satisfied: pyclipper in ./venv/lib/python3.10/site-packages (from paddleocr) (1.3.0.post4)\r\n",
      "Requirement already satisfied: opencv-contrib-python<=4.6.0.66 in ./venv/lib/python3.10/site-packages (from paddleocr) (4.6.0.66)\r\n",
      "Requirement already satisfied: rapidfuzz in ./venv/lib/python3.10/site-packages (from paddleocr) (3.0.0)\r\n",
      "Requirement already satisfied: numpy in ./venv/lib/python3.10/site-packages (from paddleocr) (1.23.5)\r\n",
      "Requirement already satisfied: lxml in ./venv/lib/python3.10/site-packages (from paddleocr) (4.9.2)\r\n",
      "Requirement already satisfied: pdf2docx in ./venv/lib/python3.10/site-packages (from paddleocr) (0.5.6)\r\n",
      "Requirement already satisfied: opt-einsum==3.3.0 in ./venv/lib/python3.10/site-packages (from paddlepaddle) (3.3.0)\r\n",
      "Requirement already satisfied: paddle-bfloat==0.1.7 in ./venv/lib/python3.10/site-packages (from paddlepaddle) (0.1.7)\r\n",
      "Requirement already satisfied: Pillow in ./venv/lib/python3.10/site-packages (from paddlepaddle) (9.5.0)\r\n",
      "Requirement already satisfied: protobuf<=3.20.0,>=3.1.0 in ./venv/lib/python3.10/site-packages (from paddlepaddle) (3.20.0)\r\n",
      "Requirement already satisfied: astor in ./venv/lib/python3.10/site-packages (from paddlepaddle) (0.8.1)\r\n",
      "Requirement already satisfied: requests>=2.20.0 in ./venv/lib/python3.10/site-packages (from paddlepaddle) (2.31.0)\r\n",
      "Requirement already satisfied: six in ./venv/lib/python3.10/site-packages (from paddlepaddle) (1.16.0)\r\n",
      "Requirement already satisfied: decorator in ./venv/lib/python3.10/site-packages (from paddlepaddle) (5.1.1)\r\n",
      "Requirement already satisfied: termcolor in ./venv/lib/python3.10/site-packages (from fire>=0.3.0->paddleocr) (2.3.0)\r\n",
      "Requirement already satisfied: idna<4,>=2.5 in ./venv/lib/python3.10/site-packages (from requests>=2.20.0->paddlepaddle) (3.4)\r\n",
      "Requirement already satisfied: urllib3<3,>=1.21.1 in ./venv/lib/python3.10/site-packages (from requests>=2.20.0->paddlepaddle) (1.26.6)\r\n",
      "Requirement already satisfied: charset-normalizer<4,>=2 in ./venv/lib/python3.10/site-packages (from requests>=2.20.0->paddlepaddle) (3.1.0)\r\n",
      "Requirement already satisfied: certifi>=2017.4.17 in ./venv/lib/python3.10/site-packages (from requests>=2.20.0->paddlepaddle) (2023.5.7)\r\n",
      "Requirement already satisfied: soupsieve>1.2 in ./venv/lib/python3.10/site-packages (from beautifulsoup4->paddleocr) (2.4.1)\r\n",
      "Requirement already satisfied: imageio in ./venv/lib/python3.10/site-packages (from imgaug->paddleocr) (2.30.0)\r\n",
      "Requirement already satisfied: matplotlib in ./venv/lib/python3.10/site-packages (from imgaug->paddleocr) (3.7.1)\r\n",
      "Requirement already satisfied: scipy in ./venv/lib/python3.10/site-packages (from imgaug->paddleocr) (1.10.1)\r\n",
      "Requirement already satisfied: PyWavelets>=1.1.1 in ./venv/lib/python3.10/site-packages (from scikit-image->paddleocr) (1.4.1)\r\n",
      "Requirement already satisfied: networkx>=2.8 in ./venv/lib/python3.10/site-packages (from scikit-image->paddleocr) (3.1)\r\n",
      "Requirement already satisfied: packaging>=20.0 in ./venv/lib/python3.10/site-packages (from scikit-image->paddleocr) (23.1)\r\n",
      "Requirement already satisfied: lazy_loader>=0.1 in ./venv/lib/python3.10/site-packages (from scikit-image->paddleocr) (0.2)\r\n",
      "Requirement already satisfied: tifffile>=2019.7.26 in ./venv/lib/python3.10/site-packages (from scikit-image->paddleocr) (2023.4.12)\r\n",
      "Requirement already satisfied: et-xmlfile in ./venv/lib/python3.10/site-packages (from openpyxl->paddleocr) (1.1.0)\r\n",
      "Requirement already satisfied: cssselect in ./venv/lib/python3.10/site-packages (from premailer->paddleocr) (1.2.0)\r\n",
      "Requirement already satisfied: cachetools in ./venv/lib/python3.10/site-packages (from premailer->paddleocr) (5.3.1)\r\n",
      "Requirement already satisfied: cssutils in ./venv/lib/python3.10/site-packages (from premailer->paddleocr) (2.6.0)\r\n",
      "Requirement already satisfied: Flask-Babel>=3.0.0 in ./venv/lib/python3.10/site-packages (from visualdl->paddleocr) (3.1.0)\r\n",
      "Requirement already satisfied: gradio==3.11.0 in ./venv/lib/python3.10/site-packages (from visualdl->paddleocr) (3.11.0)\r\n",
      "Requirement already satisfied: rarfile in ./venv/lib/python3.10/site-packages (from visualdl->paddleocr) (4.0)\r\n",
      "Requirement already satisfied: bce-python-sdk in ./venv/lib/python3.10/site-packages (from visualdl->paddleocr) (0.8.83)\r\n",
      "Requirement already satisfied: flask>=1.1.1 in ./venv/lib/python3.10/site-packages (from visualdl->paddleocr) (2.3.2)\r\n",
      "Requirement already satisfied: pandas in ./venv/lib/python3.10/site-packages (from visualdl->paddleocr) (1.5.3)\r\n",
      "Requirement already satisfied: paddle2onnx>=1.0.5 in ./venv/lib/python3.10/site-packages (from visualdl->paddleocr) (1.0.6)\r\n",
      "Requirement already satisfied: tritonclient[all] in ./venv/lib/python3.10/site-packages (from visualdl->paddleocr) (2.34.0)\r\n",
      "Requirement already satisfied: psutil in ./venv/lib/python3.10/site-packages (from visualdl->paddleocr) (5.9.5)\r\n",
      "Requirement already satisfied: onnx>=1.6.0 in ./venv/lib/python3.10/site-packages (from visualdl->paddleocr) (1.12.0)\r\n",
      "Requirement already satisfied: x2paddle>=1.4.0 in ./venv/lib/python3.10/site-packages (from visualdl->paddleocr) (1.4.1)\r\n",
      "Requirement already satisfied: h11<0.13,>=0.11 in ./venv/lib/python3.10/site-packages (from gradio==3.11.0->visualdl->paddleocr) (0.12.0)\r\n",
      "Requirement already satisfied: pycryptodome in ./venv/lib/python3.10/site-packages (from gradio==3.11.0->visualdl->paddleocr) (3.18.0)\r\n",
      "Requirement already satisfied: orjson in ./venv/lib/python3.10/site-packages (from gradio==3.11.0->visualdl->paddleocr) (3.8.14)\r\n",
      "Requirement already satisfied: paramiko in ./venv/lib/python3.10/site-packages (from gradio==3.11.0->visualdl->paddleocr) (3.2.0)\r\n",
      "Requirement already satisfied: pyyaml in ./venv/lib/python3.10/site-packages (from gradio==3.11.0->visualdl->paddleocr) (6.0)\r\n",
      "Requirement already satisfied: aiohttp in ./venv/lib/python3.10/site-packages (from gradio==3.11.0->visualdl->paddleocr) (3.8.4)\r\n",
      "Requirement already satisfied: websockets>=10.0 in ./venv/lib/python3.10/site-packages (from gradio==3.11.0->visualdl->paddleocr) (11.0.3)\r\n",
      "Requirement already satisfied: pydantic in ./venv/lib/python3.10/site-packages (from gradio==3.11.0->visualdl->paddleocr) (1.10.8)\r\n",
      "Requirement already satisfied: markdown-it-py[linkify,plugins] in ./venv/lib/python3.10/site-packages (from gradio==3.11.0->visualdl->paddleocr) (2.2.0)\r\n",
      "Requirement already satisfied: pydub in ./venv/lib/python3.10/site-packages (from gradio==3.11.0->visualdl->paddleocr) (0.25.1)\r\n",
      "Requirement already satisfied: python-multipart in ./venv/lib/python3.10/site-packages (from gradio==3.11.0->visualdl->paddleocr) (0.0.6)\r\n",
      "Requirement already satisfied: fastapi in ./venv/lib/python3.10/site-packages (from gradio==3.11.0->visualdl->paddleocr) (0.95.2)\r\n",
      "Requirement already satisfied: httpx in ./venv/lib/python3.10/site-packages (from gradio==3.11.0->visualdl->paddleocr) (0.23.3)\r\n",
      "Requirement already satisfied: jinja2 in ./venv/lib/python3.10/site-packages (from gradio==3.11.0->visualdl->paddleocr) (3.1.2)\r\n",
      "Requirement already satisfied: uvicorn in ./venv/lib/python3.10/site-packages (from gradio==3.11.0->visualdl->paddleocr) (0.22.0)\r\n",
      "Requirement already satisfied: ffmpy in ./venv/lib/python3.10/site-packages (from gradio==3.11.0->visualdl->paddleocr) (0.3.0)\r\n",
      "Requirement already satisfied: fsspec in ./venv/lib/python3.10/site-packages (from gradio==3.11.0->visualdl->paddleocr) (2023.5.0)\r\n",
      "Requirement already satisfied: click>=8.1.3 in ./venv/lib/python3.10/site-packages (from flask>=1.1.1->visualdl->paddleocr) (8.1.3)\r\n",
      "Requirement already satisfied: Werkzeug>=2.3.3 in ./venv/lib/python3.10/site-packages (from flask>=1.1.1->visualdl->paddleocr) (2.3.4)\r\n",
      "Requirement already satisfied: itsdangerous>=2.1.2 in ./venv/lib/python3.10/site-packages (from flask>=1.1.1->visualdl->paddleocr) (2.1.2)\r\n",
      "Requirement already satisfied: blinker>=1.6.2 in ./venv/lib/python3.10/site-packages (from flask>=1.1.1->visualdl->paddleocr) (1.6.2)\r\n",
      "Requirement already satisfied: Babel>=2.12 in ./venv/lib/python3.10/site-packages (from Flask-Babel>=3.0.0->visualdl->paddleocr) (2.12.1)\r\n",
      "Requirement already satisfied: pytz>=2022.7 in ./venv/lib/python3.10/site-packages (from Flask-Babel>=3.0.0->visualdl->paddleocr) (2023.3)\r\n",
      "Requirement already satisfied: typing-extensions>=3.6.2.1 in ./venv/lib/python3.10/site-packages (from onnx>=1.6.0->visualdl->paddleocr) (4.6.2)\r\n",
      "Requirement already satisfied: sympy in ./venv/lib/python3.10/site-packages (from x2paddle>=1.4.0->visualdl->paddleocr) (1.12)\r\n",
      "Requirement already satisfied: future>=0.6.0 in ./venv/lib/python3.10/site-packages (from bce-python-sdk->visualdl->paddleocr) (0.18.3)\r\n",
      "Requirement already satisfied: pyparsing>=2.3.1 in ./venv/lib/python3.10/site-packages (from matplotlib->imgaug->paddleocr) (3.0.9)\r\n",
      "Requirement already satisfied: cycler>=0.10 in ./venv/lib/python3.10/site-packages (from matplotlib->imgaug->paddleocr) (0.11.0)\r\n",
      "Requirement already satisfied: contourpy>=1.0.1 in ./venv/lib/python3.10/site-packages (from matplotlib->imgaug->paddleocr) (1.0.7)\r\n",
      "Requirement already satisfied: kiwisolver>=1.0.1 in ./venv/lib/python3.10/site-packages (from matplotlib->imgaug->paddleocr) (1.4.4)\r\n",
      "Requirement already satisfied: python-dateutil>=2.7 in ./venv/lib/python3.10/site-packages (from matplotlib->imgaug->paddleocr) (2.8.2)\r\n",
      "Requirement already satisfied: python-rapidjson>=0.9.1 in ./venv/lib/python3.10/site-packages (from tritonclient[all]->visualdl->paddleocr) (1.10)\r\n",
      "Requirement already satisfied: geventhttpclient<=2.0.2,>=1.4.4 in ./venv/lib/python3.10/site-packages (from tritonclient[all]->visualdl->paddleocr) (2.0.2)\r\n",
      "Requirement already satisfied: grpcio>=1.41.0 in ./venv/lib/python3.10/site-packages (from tritonclient[all]->visualdl->paddleocr) (1.54.2)\r\n",
      "Requirement already satisfied: attrs>=17.3.0 in ./venv/lib/python3.10/site-packages (from aiohttp->gradio==3.11.0->visualdl->paddleocr) (23.1.0)\r\n",
      "Requirement already satisfied: async-timeout<5.0,>=4.0.0a3 in ./venv/lib/python3.10/site-packages (from aiohttp->gradio==3.11.0->visualdl->paddleocr) (4.0.2)\r\n",
      "Requirement already satisfied: frozenlist>=1.1.1 in ./venv/lib/python3.10/site-packages (from aiohttp->gradio==3.11.0->visualdl->paddleocr) (1.3.3)\r\n",
      "Requirement already satisfied: multidict<7.0,>=4.5 in ./venv/lib/python3.10/site-packages (from aiohttp->gradio==3.11.0->visualdl->paddleocr) (6.0.4)\r\n",
      "Requirement already satisfied: yarl<2.0,>=1.0 in ./venv/lib/python3.10/site-packages (from aiohttp->gradio==3.11.0->visualdl->paddleocr) (1.9.2)\r\n",
      "Requirement already satisfied: aiosignal>=1.1.2 in ./venv/lib/python3.10/site-packages (from aiohttp->gradio==3.11.0->visualdl->paddleocr) (1.3.1)\r\n",
      "Requirement already satisfied: gevent>=0.13 in ./venv/lib/python3.10/site-packages (from geventhttpclient<=2.0.2,>=1.4.4->tritonclient[all]->visualdl->paddleocr) (22.10.2)\r\n",
      "Requirement already satisfied: brotli in ./venv/lib/python3.10/site-packages (from geventhttpclient<=2.0.2,>=1.4.4->tritonclient[all]->visualdl->paddleocr) (1.0.9)\r\n",
      "Requirement already satisfied: MarkupSafe>=2.0 in ./venv/lib/python3.10/site-packages (from jinja2->gradio==3.11.0->visualdl->paddleocr) (2.1.2)\r\n",
      "Requirement already satisfied: starlette<0.28.0,>=0.27.0 in ./venv/lib/python3.10/site-packages (from fastapi->gradio==3.11.0->visualdl->paddleocr) (0.27.0)\r\n",
      "Requirement already satisfied: rfc3986[idna2008]<2,>=1.3 in ./venv/lib/python3.10/site-packages (from httpx->gradio==3.11.0->visualdl->paddleocr) (1.5.0)\r\n",
      "Requirement already satisfied: sniffio in ./venv/lib/python3.10/site-packages (from httpx->gradio==3.11.0->visualdl->paddleocr) (1.3.0)\r\n",
      "Requirement already satisfied: httpcore<0.17.0,>=0.15.0 in ./venv/lib/python3.10/site-packages (from httpx->gradio==3.11.0->visualdl->paddleocr) (0.15.0)\r\n",
      "Requirement already satisfied: mdurl~=0.1 in ./venv/lib/python3.10/site-packages (from markdown-it-py[linkify,plugins]->gradio==3.11.0->visualdl->paddleocr) (0.1.2)\r\n",
      "Requirement already satisfied: mdit-py-plugins in ./venv/lib/python3.10/site-packages (from markdown-it-py[linkify,plugins]->gradio==3.11.0->visualdl->paddleocr) (0.3.3)\r\n",
      "Requirement already satisfied: linkify-it-py<3,>=1 in ./venv/lib/python3.10/site-packages (from markdown-it-py[linkify,plugins]->gradio==3.11.0->visualdl->paddleocr) (2.0.2)\r\n",
      "Requirement already satisfied: cryptography>=3.3 in ./venv/lib/python3.10/site-packages (from paramiko->gradio==3.11.0->visualdl->paddleocr) (41.0.0)\r\n",
      "Requirement already satisfied: pynacl>=1.5 in ./venv/lib/python3.10/site-packages (from paramiko->gradio==3.11.0->visualdl->paddleocr) (1.5.0)\r\n",
      "Requirement already satisfied: bcrypt>=3.2 in ./venv/lib/python3.10/site-packages (from paramiko->gradio==3.11.0->visualdl->paddleocr) (4.0.1)\r\n",
      "Requirement already satisfied: mpmath>=0.19 in ./venv/lib/python3.10/site-packages (from sympy->x2paddle>=1.4.0->visualdl->paddleocr) (1.3.0)\r\n",
      "Requirement already satisfied: cffi>=1.12 in ./venv/lib/python3.10/site-packages (from cryptography>=3.3->paramiko->gradio==3.11.0->visualdl->paddleocr) (1.15.1)\r\n",
      "Requirement already satisfied: zope.event in ./venv/lib/python3.10/site-packages (from gevent>=0.13->geventhttpclient<=2.0.2,>=1.4.4->tritonclient[all]->visualdl->paddleocr) (4.6)\r\n",
      "Requirement already satisfied: greenlet>=2.0.0 in ./venv/lib/python3.10/site-packages (from gevent>=0.13->geventhttpclient<=2.0.2,>=1.4.4->tritonclient[all]->visualdl->paddleocr) (2.0.2)\r\n",
      "Requirement already satisfied: zope.interface in ./venv/lib/python3.10/site-packages (from gevent>=0.13->geventhttpclient<=2.0.2,>=1.4.4->tritonclient[all]->visualdl->paddleocr) (6.0)\r\n",
      "Requirement already satisfied: setuptools in ./venv/lib/python3.10/site-packages (from gevent>=0.13->geventhttpclient<=2.0.2,>=1.4.4->tritonclient[all]->visualdl->paddleocr) (65.5.1)\r\n",
      "Requirement already satisfied: anyio==3.* in ./venv/lib/python3.10/site-packages (from httpcore<0.17.0,>=0.15.0->httpx->gradio==3.11.0->visualdl->paddleocr) (3.7.0)\r\n",
      "Requirement already satisfied: exceptiongroup in ./venv/lib/python3.10/site-packages (from anyio==3.*->httpcore<0.17.0,>=0.15.0->httpx->gradio==3.11.0->visualdl->paddleocr) (1.1.1)\r\n",
      "Requirement already satisfied: uc-micro-py in ./venv/lib/python3.10/site-packages (from linkify-it-py<3,>=1->markdown-it-py[linkify,plugins]->gradio==3.11.0->visualdl->paddleocr) (1.0.2)\r\n",
      "Requirement already satisfied: pycparser in ./venv/lib/python3.10/site-packages (from cffi>=1.12->cryptography>=3.3->paramiko->gradio==3.11.0->visualdl->paddleocr) (2.21)\r\n",
      "\r\n",
      "\u001B[1m[\u001B[0m\u001B[34;49mnotice\u001B[0m\u001B[1;39;49m]\u001B[0m\u001B[39;49m A new release of pip available: \u001B[0m\u001B[31;49m22.3.1\u001B[0m\u001B[39;49m -> \u001B[0m\u001B[32;49m23.1.2\u001B[0m\r\n",
      "\u001B[1m[\u001B[0m\u001B[34;49mnotice\u001B[0m\u001B[1;39;49m]\u001B[0m\u001B[39;49m To update, run: \u001B[0m\u001B[32;49mpip install --upgrade pip\u001B[0m\r\n"
     ]
    }
   ],
   "source": [
    "# paddlepaddle套件必須在Python 3.10才找得到\n",
    "!pip install paddleocr paddlepaddle"
   ],
   "metadata": {
    "collapsed": false,
    "ExecuteTime": {
     "end_time": "2023-05-31T11:19:19.073277Z",
     "start_time": "2023-05-31T11:19:17.758910Z"
    }
   }
  },
  {
   "cell_type": "markdown",
   "source": [
    "嘗試把檔案下載下來之後用paddleocr辨識"
   ],
   "metadata": {
    "collapsed": false
   }
  },
  {
   "cell_type": "code",
   "execution_count": 9,
   "outputs": [
    {
     "name": "stdout",
     "output_type": "stream",
     "text": [
      "--2023-05-31 19:19:19--  https://i.imgur.com/QU8C5va.jpg\r\n",
      "Resolving i.imgur.com (i.imgur.com)... 151.101.40.193\r\n",
      "Connecting to i.imgur.com (i.imgur.com)|151.101.40.193|:443... connected.\r\n",
      "HTTP request sent, awaiting response... 200 OK\r\n",
      "Length: 182714 (178K) [image/jpeg]\r\n",
      "Saving to: ‘QU8C5va.jpg.1’\r\n",
      "\r\n",
      "QU8C5va.jpg.1       100%[===================>] 178.43K   543KB/s    in 0.3s    \r\n",
      "\r\n",
      "2023-05-31 19:19:20 (543 KB/s) - ‘QU8C5va.jpg.1’ saved [182714/182714]\r\n",
      "\r\n"
     ]
    }
   ],
   "source": [
    "!wget https://i.imgur.com/QU8C5va.jpg"
   ],
   "metadata": {
    "collapsed": false,
    "ExecuteTime": {
     "end_time": "2023-05-31T11:19:20.137181Z",
     "start_time": "2023-05-31T11:19:19.074474Z"
    }
   }
  },
  {
   "cell_type": "code",
   "execution_count": 10,
   "outputs": [
    {
     "name": "stdout",
     "output_type": "stream",
     "text": [
      "[2023/05/31 19:19:21] ppocr DEBUG: Namespace(help='==SUPPRESS==', use_gpu=False, use_xpu=False, use_npu=False, ir_optim=True, use_tensorrt=False, min_subgraph_size=15, precision='fp32', gpu_mem=500, image_dir='QU8C5va.jpg', page_num=0, det_algorithm='DB', det_model_dir='/Users/nliang/.paddleocr/whl/det/ch/ch_PP-OCRv3_det_infer', det_limit_side_len=960, det_limit_type='max', det_box_type='quad', det_db_thresh=0.3, det_db_box_thresh=0.6, det_db_unclip_ratio=1.5, max_batch_size=10, use_dilation=False, det_db_score_mode='fast', det_east_score_thresh=0.8, det_east_cover_thresh=0.1, det_east_nms_thresh=0.2, det_sast_score_thresh=0.5, det_sast_nms_thresh=0.2, det_pse_thresh=0, det_pse_box_thresh=0.85, det_pse_min_area=16, det_pse_scale=1, scales=[8, 16, 32], alpha=1.0, beta=1.0, fourier_degree=5, rec_algorithm='SVTR_LCNet', rec_model_dir='/Users/nliang/.paddleocr/whl/rec/ch/ch_PP-OCRv3_rec_infer', rec_image_inverse=True, rec_image_shape='3, 48, 320', rec_batch_num=6, max_text_length=25, rec_char_dict_path='/Users/nliang/repos/ptt_qa_bot/venv/lib/python3.10/site-packages/paddleocr/ppocr/utils/ppocr_keys_v1.txt', use_space_char=True, vis_font_path='./doc/fonts/simfang.ttf', drop_score=0.5, e2e_algorithm='PGNet', e2e_model_dir=None, e2e_limit_side_len=768, e2e_limit_type='max', e2e_pgnet_score_thresh=0.5, e2e_char_dict_path='./ppocr/utils/ic15_dict.txt', e2e_pgnet_valid_set='totaltext', e2e_pgnet_mode='fast', use_angle_cls=False, cls_model_dir='/Users/nliang/.paddleocr/whl/cls/ch_ppocr_mobile_v2.0_cls_infer', cls_image_shape='3, 48, 192', label_list=['0', '180'], cls_batch_num=6, cls_thresh=0.9, enable_mkldnn=False, cpu_threads=10, use_pdserving=False, warmup=False, sr_model_dir=None, sr_image_shape='3, 32, 128', sr_batch_num=1, draw_img_save_dir='./inference_results', save_crop_res=False, crop_res_save_dir='./output', use_mp=False, total_process_num=1, process_id=0, benchmark=False, save_log_path='./log_output/', show_log=True, use_onnx=False, output='./output', table_max_len=488, table_algorithm='TableAttn', table_model_dir=None, merge_no_span_structure=True, table_char_dict_path=None, layout_model_dir=None, layout_dict_path=None, layout_score_threshold=0.5, layout_nms_threshold=0.5, kie_algorithm='LayoutXLM', ser_model_dir=None, re_model_dir=None, use_visual_backbone=True, ser_dict_path='../train_data/XFUND/class_list_xfun.txt', ocr_order_method=None, mode='structure', image_orientation=False, layout=True, table=True, ocr=True, recovery=False, use_pdf2docx_api=False, lang='ch', det=True, rec=True, type='ocr', ocr_version='PP-OCRv3', structure_version='PP-StructureV2')\r\n",
      "[2023/05/31 19:19:21] ppocr INFO: **********QU8C5va.jpg**********\r\n",
      "^C\r\n"
     ]
    }
   ],
   "source": [
    "!paddleocr --image_dir QU8C5va.jpg"
   ],
   "metadata": {
    "collapsed": false,
    "ExecuteTime": {
     "end_time": "2023-05-31T11:20:52.930814Z",
     "start_time": "2023-05-31T11:19:20.137738Z"
    }
   }
  },
  {
   "cell_type": "markdown",
   "source": [
    "## 結論\n",
    "1. 內建`Tesseract`設定使用繁體中文之後OCR結果不錯\n",
    "2. `PaddleOCR`辨識結果偶爾會自己繁轉簡跑出簡體中文。例如：服務車款 -> 服务车款\n",
    "3. `PaddleOCR`環境設定上比起內建的Tesseract麻煩很多。langchain內建也沒有UnstructuredPaddleImageLoader。如果要使用得要自己包裝套件使用。\n",
    "4. 包裝之後的套件也無法簡單的套入`UnstructuredUrlLoader`使用。得要分別將檔案下載到本機暫存區之後傳檔案路徑使用`UnstructuredPaddleImageLoader`\n",
    "\n",
    "綜合以上。有OCR需求的話仍然建議使用內建的`UnstructuredUrlLoader`設定`ocr_language`參數之後使用`Tesseract`做OCR\n",
    "\n",
    "* `UnstructuredPaddleImageLoader`之實現可以參考 https://github.com/imClumsyPanda/langchain-ChatGLM/blob/master/loader/image_loader.py#L12 或本專案之`unstructed_paddle_image_loader.py`"
   ],
   "metadata": {
    "collapsed": false
   }
  }
 ],
 "metadata": {
  "kernelspec": {
   "display_name": "Python 3",
   "language": "python",
   "name": "python3"
  },
  "language_info": {
   "codemirror_mode": {
    "name": "ipython",
    "version": 2
   },
   "file_extension": ".py",
   "mimetype": "text/x-python",
   "name": "python",
   "nbconvert_exporter": "python",
   "pygments_lexer": "ipython2",
   "version": "2.7.6"
  }
 },
 "nbformat": 4,
 "nbformat_minor": 0
}
